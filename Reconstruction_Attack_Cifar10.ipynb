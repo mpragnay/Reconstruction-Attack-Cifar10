{
  "cells": [
    {
      "cell_type": "code",
      "execution_count": null,
      "metadata": {
        "id": "t1MOMZ8wM28-"
      },
      "outputs": [],
      "source": [
        "import torch\n",
        "import torch.nn as nn\n",
        "import torch.nn.functional as F\n",
        "import torchvision\n",
        "from torchsummary import summary\n",
        "import pandas as pd\n",
        "import numpy as np\n",
        "import matplotlib.pyplot as plt\n",
        "import seaborn as sns\n",
        "from sklearn.preprocessing import StandardScaler\n",
        "from sklearn import datasets\n",
        "from sklearn.model_selection import train_test_split\n",
        "from sklearn import metrics"
      ]
    },
    {
      "cell_type": "code",
      "execution_count": null,
      "metadata": {
        "id": "i1oSIQPVO3G8",
        "colab": {
          "base_uri": "https://localhost:8080/"
        },
        "outputId": "38ea22a4-76b2-40e9-9a5d-b4d853364f4d"
      },
      "outputs": [
        {
          "output_type": "stream",
          "name": "stdout",
          "text": [
            "Files already downloaded and verified\n",
            "Files already downloaded and verified\n"
          ]
        }
      ],
      "source": [
        "# Mean and standard deviation for MNIST dataset\n",
        "mean = [0.4914, 0.4822, 0.4465]\n",
        "std = [0.2470, 0.2435, 0.2616]\n",
        "\n",
        "normalize_transform = torchvision.transforms.Compose([\n",
        "    torchvision.transforms.ToTensor(),\n",
        "    torchvision.transforms.Normalize(mean = mean,\n",
        "                                     std = std)])\n",
        "\n",
        "train_dataset = torchvision.datasets.CIFAR10(\n",
        "    root=\"./CIFAR10/train\", train=True,\n",
        "    transform=normalize_transform,\n",
        "    download=True)\n",
        "\n",
        "test_dataset = torchvision.datasets.CIFAR10(\n",
        "    root=\"./CIFAR10/test\", train=False,\n",
        "    transform=normalize_transform,\n",
        "    download=True)"
      ]
    },
    {
      "cell_type": "code",
      "execution_count": null,
      "metadata": {
        "id": "YsrNXHLVPqBk",
        "colab": {
          "base_uri": "https://localhost:8080/"
        },
        "outputId": "c538df16-f9f5-4776-a5b0-a583243782fe"
      },
      "outputs": [
        {
          "output_type": "stream",
          "name": "stdout",
          "text": [
            "Using device: cuda\n"
          ]
        }
      ],
      "source": [
        "batch_size = 64\n",
        "train_loader = torch.utils.data.DataLoader(train_dataset, shuffle=True, batch_size=batch_size)\n",
        "test_loader = torch.utils.data.DataLoader(test_dataset, shuffle=False, batch_size=1)\n",
        "\n",
        "dataiter = iter(train_loader)\n",
        "images, labels = next(dataiter)\n",
        "label_names = [\"airplane\", \"automobile\", \"bird\", \"cat\", \"deer\", \"dog\", \"frog\",\n",
        "               \"horse\", \"ship\", \"truck\"]\n",
        "\n",
        "device = torch.device('cuda' if torch.cuda.is_available() else 'cpu')\n",
        "print(f'Using device: {device}')"
      ]
    },
    {
      "cell_type": "code",
      "execution_count": null,
      "metadata": {
        "id": "Bvffhh9SrDTw"
      },
      "outputs": [],
      "source": [
        "class ResBlock(nn.Module):\n",
        "    def __init__(self, in_channels, out_channels, stride=1):\n",
        "        super(ResBlock, self).__init__()\n",
        "        self.chan=False\n",
        "        if in_channels==out_channels:\n",
        "          self.chan=True\n",
        "        self.conv1 = nn.Sequential(\n",
        "            nn.Conv2d(in_channels, out_channels, kernel_size=3, stride=stride, padding=1, bias=True),\n",
        "            nn.ReLU(inplace=True)\n",
        "        )\n",
        "        self.conv2 = nn.Conv2d(out_channels, out_channels, kernel_size=3, stride=1, padding=1, bias=True)\n",
        "        self.shortcut = nn.Sequential()\n",
        "        if stride != 1 or in_channels != out_channels:\n",
        "            self.shortcut = nn.Sequential(\n",
        "                nn.Conv2d(in_channels, out_channels, kernel_size=1, stride=stride, bias=True)\n",
        "            )\n",
        "        self.relu_fin=nn.ReLU(inplace=True)\n",
        "\n",
        "    def forward(self, x):\n",
        "        out=self.conv1(x)\n",
        "        out=self.conv2(out)\n",
        "        out += self.shortcut(x)\n",
        "        out=self.relu_fin(out)\n",
        "        return out"
      ]
    },
    {
      "cell_type": "code",
      "execution_count": null,
      "metadata": {
        "id": "cT5vfFYqtC6y"
      },
      "outputs": [],
      "source": [
        "class CustomModel(nn.Module):\n",
        "    def __init__(self, num_classes=10):\n",
        "        super(CustomModel, self).__init__()\n",
        "        self.layer1 = ResBlock(3, 16, stride=2)\n",
        "        self.layer2 = ResBlock(16, 32, stride=2)\n",
        "        self.fc1 = nn.Linear(2048, 256)\n",
        "        self.fc2 = nn.Linear(256, num_classes)\n",
        "\n",
        "    def forward(self, x):\n",
        "        out = self.layer1(x)\n",
        "        out = self.layer2(out)\n",
        "        out = out.view(out.size(0), -1)\n",
        "        out = F.relu(self.fc1(out))\n",
        "        out = self.fc2(out)\n",
        "        return out\n",
        "\n",
        "    def _initialize_weights(self):\n",
        "        for m in self.modules():\n",
        "            if isinstance(m, nn.Conv2d) or isinstance(m, nn.Linear):\n",
        "                nn.init.kaiming_normal_(m.weight)\n",
        "                if m.bias is not None:\n",
        "                    nn.init.zeros_(m.bias)\n",
        "\n",
        "class CustomModel2(nn.Module):\n",
        "    def __init__(self, num_classes=10):\n",
        "        super(CustomModel2, self).__init__()\n",
        "        self.layer1 = ResBlock(3, 16, stride=2)\n",
        "        self.layer2 = ResBlock(16, 16, stride=1)\n",
        "        self.layer3 = ResBlock(16, 32, stride=2)\n",
        "        self.layer4 = ResBlock(32, 32, stride=1)\n",
        "        self.fc1 = nn.Linear(2048, 256)\n",
        "        self.fc2 = nn.Linear(256, num_classes)\n",
        "\n",
        "    def forward(self, x):\n",
        "        out = self.layer1(x)\n",
        "        out = self.layer2(out)\n",
        "        out = self.layer3(out)\n",
        "        out = self.layer4(out)\n",
        "        out = out.view(out.size(0), -1)\n",
        "        out = F.relu(self.fc1(out))\n",
        "        out = self.fc2(out)\n",
        "        return out\n",
        "\n",
        "    def _initialize_weights(self):\n",
        "        for m in self.modules():\n",
        "            if isinstance(m, nn.Conv2d) or isinstance(m, nn.Linear):\n",
        "                nn.init.kaiming_normal_(m.weight)\n",
        "                if m.bias is not None:\n",
        "                    nn.init.zeros_(m.bias)"
      ]
    },
    {
      "cell_type": "code",
      "execution_count": null,
      "metadata": {
        "id": "XA8bsBqSREfr"
      },
      "outputs": [],
      "source": [
        "def compute_accuracy(model,loader_):\n",
        "  test_acc=0\n",
        "  model.eval()\n",
        "  model.to(device)\n",
        "  total_samples = 0\n",
        "  with torch.no_grad():\n",
        "      #Iterating over the training dataset in batches\n",
        "      for i, (images, labels) in enumerate(loader_):\n",
        "          images = images.to(device)\n",
        "          y_true = labels.to(device)\n",
        "          #Calculating outputs for the batch being iterated\n",
        "          outputs = model(images)\n",
        "          #Calculated prediction labels from models\n",
        "          _, y_pred = torch.max(outputs.data, 1)\n",
        "          total_samples+=labels.size(0)\n",
        "          #Comparing predicted and true labels\n",
        "          test_acc += (y_pred == y_true).sum().item()\n",
        "          # print((y_pred == y_true).sum().item())\n",
        "  # print(total_samples)\n",
        "  acc=(100 * test_acc / total_samples)\n",
        "  return acc"
      ]
    },
    {
      "cell_type": "code",
      "execution_count": null,
      "metadata": {
        "id": "fZzfXd0rSgIB"
      },
      "outputs": [],
      "source": [
        "model = CustomModel().to(device)\n",
        "model2 = CustomModel2().to(device)\n",
        "\n",
        "epochs = 50\n",
        "learning_rate = 0.001\n",
        "# weight_decay = 0  # L2 regularization factor\n",
        "criterion = torch.nn.CrossEntropyLoss()\n",
        "# optimizer = torch.optim.Adam(model.parameters(), lr=learning_rate, weight_decay=weight_decay)\n",
        "optimizer = torch.optim.Adam(model.parameters(), lr=learning_rate)"
      ]
    },
    {
      "cell_type": "code",
      "execution_count": null,
      "metadata": {
        "colab": {
          "base_uri": "https://localhost:8080/"
        },
        "id": "ejCxXfZFRHtZ",
        "outputId": "ef048687-f248-4760-e642-b27e8626328d"
      },
      "outputs": [
        {
          "output_type": "stream",
          "name": "stderr",
          "text": [
            "/usr/local/lib/python3.10/dist-packages/torch/autograd/graph.py:744: UserWarning: Plan failed with a cudnnException: CUDNN_BACKEND_EXECUTION_PLAN_DESCRIPTOR: cudnnFinalize Descriptor Failed cudnn_status: CUDNN_STATUS_NOT_SUPPORTED (Triggered internally at ../aten/src/ATen/native/cudnn/Conv_v8.cpp:919.)\n",
            "  return Variable._execution_engine.run_backward(  # Calls into the C++ engine to run the backward pass\n"
          ]
        },
        {
          "output_type": "stream",
          "name": "stdout",
          "text": [
            "Epoch 1/50: Training loss = 1.4331031294582446\n",
            "Epoch 6/50: Training loss = 0.5108396912665318\n",
            "Epoch 11/50: Training loss = 0.1324870600984396\n",
            "Epoch 16/50: Training loss = 0.07046577620648724\n",
            "Epoch 21/50: Training loss = 0.06892568650319005\n",
            "Epoch 26/50: Training loss = 0.05418229836043414\n",
            "Epoch 31/50: Training loss = 0.053587382698617396\n",
            "Epoch 36/50: Training loss = 0.04728593689143447\n",
            "Epoch 41/50: Training loss = 0.05078826095555168\n",
            "Epoch 46/50: Training loss = 0.04407592824746176\n"
          ]
        }
      ],
      "source": [
        "train_losses = []\n",
        "train_accs = []\n",
        "for epoch in range(epochs):\n",
        "    train_loss = 0\n",
        "    model.train()\n",
        "    for i, (images, labels) in enumerate(train_loader):\n",
        "        images = images.to(device)\n",
        "        labels = labels.to(device)\n",
        "        outputs = model(images)\n",
        "        loss = criterion(outputs, labels)\n",
        "\n",
        "        optimizer.zero_grad()\n",
        "        loss.backward()\n",
        "        optimizer.step()\n",
        "        train_loss += loss.item()\n",
        "\n",
        "    train_accs.append(compute_accuracy(model, train_loader))\n",
        "\n",
        "    train_losses.append(train_loss/len(train_loader))\n",
        "    if epoch%5==0:\n",
        "        print(f'Epoch {epoch+1}/{epochs}:', end=' ')\n",
        "        print(f\"Training loss = {train_losses[-1]}\")"
      ]
    },
    {
      "cell_type": "code",
      "execution_count": null,
      "metadata": {
        "id": "IXuBs7YbWja1",
        "colab": {
          "base_uri": "https://localhost:8080/",
          "height": 489
        },
        "outputId": "e8007301-33c8-43ed-a060-2793a2eb1ff8"
      },
      "outputs": [
        {
          "output_type": "stream",
          "name": "stdout",
          "text": [
            "Test accuracy of ResNet = 65.57\n"
          ]
        },
        {
          "output_type": "display_data",
          "data": {
            "text/plain": [
              "<Figure size 640x480 with 1 Axes>"
            ],
            "image/png": "[encoded data removed]"
          },
          "metadata": {}
        }
      ],
      "source": [
        "#Plotting accuracy for all epochs\n",
        "plt.plot(range(1,epochs+1), train_accs)\n",
        "plt.title(\"Train Accuracy of Res-Net\")\n",
        "plt.xlabel(\"Number of epochs\")\n",
        "plt.ylabel(\"Training accuracy\")\n",
        "\n",
        "print(f\"Test accuracy of ResNet = {compute_accuracy(model, test_loader)}\")"
      ]
    },
    {
      "cell_type": "code",
      "execution_count": null,
      "metadata": {
        "id": "YAzXo5S_X7db",
        "colab": {
          "base_uri": "https://localhost:8080/"
        },
        "outputId": "e7b87722-a854-4c45-e9c2-327c6d852ab0"
      },
      "outputs": [
        {
          "output_type": "stream",
          "name": "stdout",
          "text": [
            "Total number of parameters for resnet model: 544378\n"
          ]
        }
      ],
      "source": [
        "#parameters of resnet model\n",
        "total_params_resnet = sum(p.numel() for p in model.parameters())\n",
        "print(f\"Total number of parameters for resnet model: {total_params_resnet}\")"
      ]
    },
    {
      "cell_type": "code",
      "execution_count": null,
      "metadata": {
        "id": "TG7EeYqeKH4J"
      },
      "outputs": [],
      "source": [
        "for param in model.parameters():\n",
        "    param.requires_grad = False"
      ]
    },
    {
      "cell_type": "code",
      "execution_count": null,
      "metadata": {
        "id": "1po6ghyeMmKA"
      },
      "outputs": [],
      "source": [
        "const_factor = 0\n",
        "lr_recon = 0.1"
      ]
    },
    {
      "cell_type": "code",
      "source": [
        "adversarial_inp = torch.randn((1,3,32,32))\n",
        "adversarial_class = 2\n",
        "adversarial_inp = adversarial_inp.to(device)\n",
        "print(adversarial_inp.shape)\n",
        "initial_inp = adversarial_inp\n",
        "print(model(adversarial_inp))"
      ],
      "metadata": {
        "colab": {
          "base_uri": "https://localhost:8080/"
        },
        "id": "QCTzC6b1Vjmh",
        "outputId": "99111f6e-2b19-4863-b61c-18f7db7cb7ad"
      },
      "execution_count": null,
      "outputs": [
        {
          "metadata": {
            "tags": null
          },
          "name": "stdout",
          "output_type": "stream",
          "text": [
            "tensor([[-11.5743, -12.0693,  -5.6300, -11.3947,  -5.4369,  -8.2508,   8.8960,\n",
            "          -2.0355,  -5.7958,   1.8538]], device='cuda:0')\n"
          ]
        }
      ]
    },
    {
      "cell_type": "code",
      "execution_count": null,
      "metadata": {
        "colab": {
          "base_uri": "https://localhost:8080/"
        },
        "id": "O2voSP3LKd7A",
        "outputId": "0b8e8412-1c37-49a0-99c4-259063838798"
      },
      "outputs": [
        {
          "output_type": "stream",
          "name": "stdout",
          "text": [
            "torch.Size([1, 3, 32, 32])\n",
            "Epoch 1/2: Training loss = 0.9999995231628418\n",
            "torch.Size([1, 3, 32, 32])\n",
            "Epoch 2/2: Training loss = 0.9999995231628418\n",
            "torch.Size([1, 3, 32, 32])\n",
            "Epoch 3/2: Training loss = 0.9999995231628418\n",
            "torch.Size([1, 3, 32, 32])\n",
            "Epoch 4/2: Training loss = 0.9999995231628418\n",
            "torch.Size([1, 3, 32, 32])\n",
            "Epoch 5/2: Training loss = 0.9999995231628418\n",
            "torch.Size([1, 3, 32, 32])\n",
            "Epoch 6/2: Training loss = 0.9999995231628418\n",
            "torch.Size([1, 3, 32, 32])\n",
            "Epoch 7/2: Training loss = 0.9999995231628418\n",
            "torch.Size([1, 3, 32, 32])\n",
            "Epoch 8/2: Training loss = 0.9999995231628418\n",
            "torch.Size([1, 3, 32, 32])\n",
            "Epoch 9/2: Training loss = 0.9999995231628418\n",
            "torch.Size([1, 3, 32, 32])\n",
            "Epoch 10/2: Training loss = 0.9999995231628418\n",
            "torch.Size([1, 3, 32, 32])\n",
            "Epoch 11/2: Training loss = 0.9999995231628418\n",
            "torch.Size([1, 3, 32, 32])\n",
            "Epoch 12/2: Training loss = 0.9999995231628418\n",
            "torch.Size([1, 3, 32, 32])\n",
            "Epoch 13/2: Training loss = 0.9999995231628418\n",
            "torch.Size([1, 3, 32, 32])\n",
            "Epoch 14/2: Training loss = 0.9999995231628418\n",
            "torch.Size([1, 3, 32, 32])\n",
            "Epoch 15/2: Training loss = 0.9999995231628418\n",
            "torch.Size([1, 3, 32, 32])\n",
            "Epoch 16/2: Training loss = 0.9999995231628418\n",
            "torch.Size([1, 3, 32, 32])\n",
            "Epoch 17/2: Training loss = 0.9999995231628418\n",
            "torch.Size([1, 3, 32, 32])\n",
            "Epoch 18/2: Training loss = 0.9999995231628418\n",
            "torch.Size([1, 3, 32, 32])\n",
            "Epoch 19/2: Training loss = 0.9999995231628418\n",
            "torch.Size([1, 3, 32, 32])\n",
            "Epoch 20/2: Training loss = 0.9999995231628418\n",
            "torch.Size([1, 3, 32, 32])\n",
            "Epoch 21/2: Training loss = 0.9999995231628418\n",
            "torch.Size([1, 3, 32, 32])\n",
            "Epoch 22/2: Training loss = 0.9999995231628418\n",
            "torch.Size([1, 3, 32, 32])\n",
            "Epoch 23/2: Training loss = 0.9999995231628418\n",
            "torch.Size([1, 3, 32, 32])\n",
            "Epoch 24/2: Training loss = 0.9999995231628418\n",
            "torch.Size([1, 3, 32, 32])\n",
            "Epoch 25/2: Training loss = 0.9999995231628418\n",
            "torch.Size([1, 3, 32, 32])\n",
            "Epoch 26/2: Training loss = 0.9999995231628418\n",
            "torch.Size([1, 3, 32, 32])\n",
            "Epoch 27/2: Training loss = 0.9999995231628418\n",
            "torch.Size([1, 3, 32, 32])\n",
            "Epoch 28/2: Training loss = 0.9999995231628418\n",
            "torch.Size([1, 3, 32, 32])\n",
            "Epoch 29/2: Training loss = 0.9999995231628418\n",
            "torch.Size([1, 3, 32, 32])\n",
            "Epoch 30/2: Training loss = 0.9999995231628418\n",
            "torch.Size([1, 3, 32, 32])\n",
            "Epoch 31/2: Training loss = 0.9999995231628418\n",
            "torch.Size([1, 3, 32, 32])\n",
            "Epoch 32/2: Training loss = 0.9999995231628418\n",
            "torch.Size([1, 3, 32, 32])\n",
            "Epoch 33/2: Training loss = 0.9999995231628418\n",
            "torch.Size([1, 3, 32, 32])\n",
            "Epoch 34/2: Training loss = 0.9999995231628418\n",
            "torch.Size([1, 3, 32, 32])\n",
            "Epoch 35/2: Training loss = 0.9999995231628418\n",
            "torch.Size([1, 3, 32, 32])\n",
            "Epoch 36/2: Training loss = 0.9999995231628418\n",
            "torch.Size([1, 3, 32, 32])\n",
            "Epoch 37/2: Training loss = 0.9999995231628418\n",
            "torch.Size([1, 3, 32, 32])\n",
            "Epoch 38/2: Training loss = 0.9999995231628418\n",
            "torch.Size([1, 3, 32, 32])\n",
            "Epoch 39/2: Training loss = 0.9999995231628418\n",
            "torch.Size([1, 3, 32, 32])\n",
            "Epoch 40/2: Training loss = 0.9999995231628418\n",
            "torch.Size([1, 3, 32, 32])\n",
            "Epoch 41/2: Training loss = 0.9999995231628418\n",
            "torch.Size([1, 3, 32, 32])\n",
            "Epoch 42/2: Training loss = 0.9999995231628418\n",
            "torch.Size([1, 3, 32, 32])\n",
            "Epoch 43/2: Training loss = 0.9999995231628418\n",
            "torch.Size([1, 3, 32, 32])\n",
            "Epoch 44/2: Training loss = 0.9999995231628418\n",
            "torch.Size([1, 3, 32, 32])\n",
            "Epoch 45/2: Training loss = 0.9999995231628418\n",
            "torch.Size([1, 3, 32, 32])\n",
            "Epoch 46/2: Training loss = 0.9999995231628418\n",
            "torch.Size([1, 3, 32, 32])\n",
            "Epoch 47/2: Training loss = 0.9999995231628418\n",
            "torch.Size([1, 3, 32, 32])\n",
            "Epoch 48/2: Training loss = 0.9999995231628418\n",
            "torch.Size([1, 3, 32, 32])\n",
            "Epoch 49/2: Training loss = 0.9999995231628418\n",
            "torch.Size([1, 3, 32, 32])\n",
            "Epoch 50/2: Training loss = 0.9999995231628418\n",
            "torch.Size([1, 3, 32, 32])\n",
            "Epoch 51/2: Training loss = 0.9999995231628418\n",
            "torch.Size([1, 3, 32, 32])\n",
            "Epoch 52/2: Training loss = 0.9999995231628418\n",
            "torch.Size([1, 3, 32, 32])\n",
            "Epoch 53/2: Training loss = 0.9999995231628418\n",
            "torch.Size([1, 3, 32, 32])\n",
            "Epoch 54/2: Training loss = 0.9999995231628418\n",
            "torch.Size([1, 3, 32, 32])\n",
            "Epoch 55/2: Training loss = 0.9999995231628418\n",
            "torch.Size([1, 3, 32, 32])\n",
            "Epoch 56/2: Training loss = 0.9999995231628418\n",
            "torch.Size([1, 3, 32, 32])\n",
            "Epoch 57/2: Training loss = 0.9999995231628418\n",
            "torch.Size([1, 3, 32, 32])\n",
            "Epoch 58/2: Training loss = 0.9999995231628418\n",
            "torch.Size([1, 3, 32, 32])\n",
            "Epoch 59/2: Training loss = 0.9999995231628418\n",
            "torch.Size([1, 3, 32, 32])\n",
            "Epoch 60/2: Training loss = 0.9999995231628418\n",
            "torch.Size([1, 3, 32, 32])\n",
            "Epoch 61/2: Training loss = 0.9999995231628418\n",
            "torch.Size([1, 3, 32, 32])\n",
            "Epoch 62/2: Training loss = 0.9999995231628418\n",
            "torch.Size([1, 3, 32, 32])\n",
            "Epoch 63/2: Training loss = 0.9999995231628418\n",
            "torch.Size([1, 3, 32, 32])\n",
            "Epoch 64/2: Training loss = 0.9999995231628418\n",
            "torch.Size([1, 3, 32, 32])\n",
            "Epoch 65/2: Training loss = 0.9999995231628418\n",
            "torch.Size([1, 3, 32, 32])\n",
            "Epoch 66/2: Training loss = 0.9999995231628418\n",
            "torch.Size([1, 3, 32, 32])\n",
            "Epoch 67/2: Training loss = 0.9999995231628418\n",
            "torch.Size([1, 3, 32, 32])\n",
            "Epoch 68/2: Training loss = 0.9999995231628418\n",
            "torch.Size([1, 3, 32, 32])\n",
            "Epoch 69/2: Training loss = 0.9999995231628418\n",
            "torch.Size([1, 3, 32, 32])\n",
            "Epoch 70/2: Training loss = 0.9999995231628418\n",
            "torch.Size([1, 3, 32, 32])\n",
            "Epoch 71/2: Training loss = 0.9999995231628418\n",
            "torch.Size([1, 3, 32, 32])\n",
            "Epoch 72/2: Training loss = 0.9999995231628418\n",
            "torch.Size([1, 3, 32, 32])\n",
            "Epoch 73/2: Training loss = 0.9999995231628418\n",
            "torch.Size([1, 3, 32, 32])\n",
            "Epoch 74/2: Training loss = 0.9999995231628418\n",
            "torch.Size([1, 3, 32, 32])\n",
            "Epoch 75/2: Training loss = 0.9999995231628418\n",
            "torch.Size([1, 3, 32, 32])\n",
            "Epoch 76/2: Training loss = 0.9999995231628418\n",
            "torch.Size([1, 3, 32, 32])\n",
            "Epoch 77/2: Training loss = 0.9999995231628418\n",
            "torch.Size([1, 3, 32, 32])\n",
            "Epoch 78/2: Training loss = 0.9999995231628418\n",
            "torch.Size([1, 3, 32, 32])\n",
            "Epoch 79/2: Training loss = 0.9999995231628418\n",
            "torch.Size([1, 3, 32, 32])\n",
            "Epoch 80/2: Training loss = 0.9999995231628418\n",
            "torch.Size([1, 3, 32, 32])\n",
            "Epoch 81/2: Training loss = 0.9999995231628418\n",
            "torch.Size([1, 3, 32, 32])\n",
            "Epoch 82/2: Training loss = 0.9999995231628418\n",
            "torch.Size([1, 3, 32, 32])\n",
            "Epoch 83/2: Training loss = 0.9999995231628418\n",
            "torch.Size([1, 3, 32, 32])\n",
            "Epoch 84/2: Training loss = 0.9999995231628418\n",
            "torch.Size([1, 3, 32, 32])\n",
            "Epoch 85/2: Training loss = 0.9999995231628418\n",
            "torch.Size([1, 3, 32, 32])\n",
            "Epoch 86/2: Training loss = 0.9999995231628418\n",
            "torch.Size([1, 3, 32, 32])\n",
            "Epoch 87/2: Training loss = 0.9999995231628418\n",
            "torch.Size([1, 3, 32, 32])\n",
            "Epoch 88/2: Training loss = 0.9999995231628418\n",
            "torch.Size([1, 3, 32, 32])\n",
            "Epoch 89/2: Training loss = 0.9999995231628418\n",
            "torch.Size([1, 3, 32, 32])\n",
            "Epoch 90/2: Training loss = 0.9999995231628418\n",
            "torch.Size([1, 3, 32, 32])\n",
            "Epoch 91/2: Training loss = 0.9999995231628418\n",
            "torch.Size([1, 3, 32, 32])\n",
            "Epoch 92/2: Training loss = 0.9999995231628418\n",
            "torch.Size([1, 3, 32, 32])\n",
            "Epoch 93/2: Training loss = 0.9999995231628418\n",
            "torch.Size([1, 3, 32, 32])\n",
            "Epoch 94/2: Training loss = 0.9999995231628418\n",
            "torch.Size([1, 3, 32, 32])\n",
            "Epoch 95/2: Training loss = 0.9999995231628418\n",
            "torch.Size([1, 3, 32, 32])\n",
            "Epoch 96/2: Training loss = 0.9999995231628418\n",
            "torch.Size([1, 3, 32, 32])\n",
            "Epoch 97/2: Training loss = 0.9999995231628418\n",
            "torch.Size([1, 3, 32, 32])\n",
            "Epoch 98/2: Training loss = 0.9999995231628418\n",
            "torch.Size([1, 3, 32, 32])\n",
            "Epoch 99/2: Training loss = 0.9999995231628418\n",
            "torch.Size([1, 3, 32, 32])\n",
            "Epoch 100/2: Training loss = 0.9999995231628418\n",
            "torch.Size([1, 3, 32, 32])\n",
            "Epoch 101/2: Training loss = 0.9999995231628418\n",
            "torch.Size([1, 3, 32, 32])\n",
            "Epoch 102/2: Training loss = 0.9999995231628418\n",
            "torch.Size([1, 3, 32, 32])\n",
            "Epoch 103/2: Training loss = 0.9999995231628418\n",
            "torch.Size([1, 3, 32, 32])\n",
            "Epoch 104/2: Training loss = 0.9999995231628418\n",
            "torch.Size([1, 3, 32, 32])\n",
            "Epoch 105/2: Training loss = 0.9999995231628418\n",
            "torch.Size([1, 3, 32, 32])\n",
            "Epoch 106/2: Training loss = 0.9999995231628418\n",
            "torch.Size([1, 3, 32, 32])\n",
            "Epoch 107/2: Training loss = 0.9999995231628418\n",
            "torch.Size([1, 3, 32, 32])\n",
            "Epoch 108/2: Training loss = 0.9999995231628418\n",
            "torch.Size([1, 3, 32, 32])\n",
            "Epoch 109/2: Training loss = 0.9999995231628418\n",
            "torch.Size([1, 3, 32, 32])\n",
            "Epoch 110/2: Training loss = 0.9999995231628418\n",
            "torch.Size([1, 3, 32, 32])\n",
            "Epoch 111/2: Training loss = 0.9999995231628418\n",
            "torch.Size([1, 3, 32, 32])\n",
            "Epoch 112/2: Training loss = 0.9999995231628418\n",
            "torch.Size([1, 3, 32, 32])\n",
            "Epoch 113/2: Training loss = 0.9999995231628418\n",
            "torch.Size([1, 3, 32, 32])\n",
            "Epoch 114/2: Training loss = 0.9999995231628418\n",
            "torch.Size([1, 3, 32, 32])\n",
            "Epoch 115/2: Training loss = 0.9999995231628418\n",
            "torch.Size([1, 3, 32, 32])\n",
            "Epoch 116/2: Training loss = 0.9999995231628418\n",
            "torch.Size([1, 3, 32, 32])\n",
            "Epoch 117/2: Training loss = 0.9999995231628418\n",
            "torch.Size([1, 3, 32, 32])\n",
            "Epoch 118/2: Training loss = 0.9999995231628418\n",
            "torch.Size([1, 3, 32, 32])\n",
            "Epoch 119/2: Training loss = 0.9999995231628418\n",
            "torch.Size([1, 3, 32, 32])\n",
            "Epoch 120/2: Training loss = 0.9999995231628418\n",
            "torch.Size([1, 3, 32, 32])\n",
            "Epoch 121/2: Training loss = 0.9999995231628418\n",
            "torch.Size([1, 3, 32, 32])\n",
            "Epoch 122/2: Training loss = 0.9999995231628418\n",
            "torch.Size([1, 3, 32, 32])\n",
            "Epoch 123/2: Training loss = 0.9999995231628418\n",
            "torch.Size([1, 3, 32, 32])\n",
            "Epoch 124/2: Training loss = 0.9999995231628418\n",
            "torch.Size([1, 3, 32, 32])\n",
            "Epoch 125/2: Training loss = 0.9999995231628418\n",
            "torch.Size([1, 3, 32, 32])\n",
            "Epoch 126/2: Training loss = 0.9999995231628418\n",
            "torch.Size([1, 3, 32, 32])\n",
            "Epoch 127/2: Training loss = 0.9999995231628418\n",
            "torch.Size([1, 3, 32, 32])\n",
            "Epoch 128/2: Training loss = 0.9999995231628418\n",
            "torch.Size([1, 3, 32, 32])\n",
            "Epoch 129/2: Training loss = 0.9999995231628418\n",
            "torch.Size([1, 3, 32, 32])\n",
            "Epoch 130/2: Training loss = 0.9999995231628418\n",
            "torch.Size([1, 3, 32, 32])\n",
            "Epoch 131/2: Training loss = 0.9999995231628418\n",
            "torch.Size([1, 3, 32, 32])\n",
            "Epoch 132/2: Training loss = 0.9999995231628418\n",
            "torch.Size([1, 3, 32, 32])\n",
            "Epoch 133/2: Training loss = 0.9999995231628418\n",
            "torch.Size([1, 3, 32, 32])\n",
            "Epoch 134/2: Training loss = 0.9999995231628418\n",
            "torch.Size([1, 3, 32, 32])\n",
            "Epoch 135/2: Training loss = 0.9999995231628418\n",
            "torch.Size([1, 3, 32, 32])\n",
            "Epoch 136/2: Training loss = 0.9999995231628418\n",
            "torch.Size([1, 3, 32, 32])\n",
            "Epoch 137/2: Training loss = 0.9999995231628418\n",
            "torch.Size([1, 3, 32, 32])\n",
            "Epoch 138/2: Training loss = 0.9999995231628418\n",
            "torch.Size([1, 3, 32, 32])\n",
            "Epoch 139/2: Training loss = 0.9999995231628418\n",
            "torch.Size([1, 3, 32, 32])\n",
            "Epoch 140/2: Training loss = 0.9999995231628418\n",
            "torch.Size([1, 3, 32, 32])\n",
            "Epoch 141/2: Training loss = 0.9999995231628418\n",
            "torch.Size([1, 3, 32, 32])\n",
            "Epoch 142/2: Training loss = 0.9999995231628418\n",
            "torch.Size([1, 3, 32, 32])\n",
            "Epoch 143/2: Training loss = 0.9999995231628418\n",
            "torch.Size([1, 3, 32, 32])\n",
            "Epoch 144/2: Training loss = 0.9999995231628418\n",
            "torch.Size([1, 3, 32, 32])\n",
            "Epoch 145/2: Training loss = 0.9999995231628418\n",
            "torch.Size([1, 3, 32, 32])\n",
            "Epoch 146/2: Training loss = 0.9999995231628418\n",
            "torch.Size([1, 3, 32, 32])\n",
            "Epoch 147/2: Training loss = 0.9999995231628418\n",
            "torch.Size([1, 3, 32, 32])\n",
            "Epoch 148/2: Training loss = 0.9999995231628418\n",
            "torch.Size([1, 3, 32, 32])\n",
            "Epoch 149/2: Training loss = 0.9999995231628418\n",
            "torch.Size([1, 3, 32, 32])\n",
            "Epoch 150/2: Training loss = 0.9999995231628418\n",
            "torch.Size([1, 3, 32, 32])\n",
            "Epoch 151/2: Training loss = 0.9999995231628418\n",
            "torch.Size([1, 3, 32, 32])\n",
            "Epoch 152/2: Training loss = 0.9999995231628418\n",
            "torch.Size([1, 3, 32, 32])\n",
            "Epoch 153/2: Training loss = 0.9999995231628418\n",
            "torch.Size([1, 3, 32, 32])\n",
            "Epoch 154/2: Training loss = 0.9999995231628418\n",
            "torch.Size([1, 3, 32, 32])\n",
            "Epoch 155/2: Training loss = 0.9999995231628418\n",
            "torch.Size([1, 3, 32, 32])\n",
            "Epoch 156/2: Training loss = 0.9999995231628418\n",
            "torch.Size([1, 3, 32, 32])\n",
            "Epoch 157/2: Training loss = 0.9999995231628418\n",
            "torch.Size([1, 3, 32, 32])\n",
            "Epoch 158/2: Training loss = 0.9999995231628418\n",
            "torch.Size([1, 3, 32, 32])\n",
            "Epoch 159/2: Training loss = 0.9999995231628418\n",
            "torch.Size([1, 3, 32, 32])\n",
            "Epoch 160/2: Training loss = 0.9999995231628418\n",
            "torch.Size([1, 3, 32, 32])\n",
            "Epoch 161/2: Training loss = 0.9999995231628418\n",
            "torch.Size([1, 3, 32, 32])\n",
            "Epoch 162/2: Training loss = 0.9999995231628418\n",
            "torch.Size([1, 3, 32, 32])\n",
            "Epoch 163/2: Training loss = 0.9999995231628418\n",
            "torch.Size([1, 3, 32, 32])\n",
            "Epoch 164/2: Training loss = 0.9999995231628418\n",
            "torch.Size([1, 3, 32, 32])\n",
            "Epoch 165/2: Training loss = 0.9999995231628418\n",
            "torch.Size([1, 3, 32, 32])\n",
            "Epoch 166/2: Training loss = 0.9999995231628418\n",
            "torch.Size([1, 3, 32, 32])\n",
            "Epoch 167/2: Training loss = 0.9999995231628418\n",
            "torch.Size([1, 3, 32, 32])\n",
            "Epoch 168/2: Training loss = 0.9999995231628418\n",
            "torch.Size([1, 3, 32, 32])\n",
            "Epoch 169/2: Training loss = 0.9999995231628418\n",
            "torch.Size([1, 3, 32, 32])\n",
            "Epoch 170/2: Training loss = 0.9999995231628418\n",
            "torch.Size([1, 3, 32, 32])\n",
            "Epoch 171/2: Training loss = 0.9999995231628418\n",
            "torch.Size([1, 3, 32, 32])\n",
            "Epoch 172/2: Training loss = 0.9999995231628418\n",
            "torch.Size([1, 3, 32, 32])\n",
            "Epoch 173/2: Training loss = 0.9999995231628418\n",
            "torch.Size([1, 3, 32, 32])\n",
            "Epoch 174/2: Training loss = 0.9999995231628418\n",
            "torch.Size([1, 3, 32, 32])\n",
            "Epoch 175/2: Training loss = 0.9999995231628418\n",
            "torch.Size([1, 3, 32, 32])\n",
            "Epoch 176/2: Training loss = 0.9999995231628418\n",
            "torch.Size([1, 3, 32, 32])\n",
            "Epoch 177/2: Training loss = 0.9999995231628418\n",
            "torch.Size([1, 3, 32, 32])\n",
            "Epoch 178/2: Training loss = 0.9999995231628418\n",
            "torch.Size([1, 3, 32, 32])\n",
            "Epoch 179/2: Training loss = 0.9999995231628418\n",
            "torch.Size([1, 3, 32, 32])\n",
            "Epoch 180/2: Training loss = 0.9999995231628418\n",
            "torch.Size([1, 3, 32, 32])\n",
            "Epoch 181/2: Training loss = 0.9999995231628418\n",
            "torch.Size([1, 3, 32, 32])\n",
            "Epoch 182/2: Training loss = 0.9999995231628418\n",
            "torch.Size([1, 3, 32, 32])\n",
            "Epoch 183/2: Training loss = 0.9999995231628418\n",
            "torch.Size([1, 3, 32, 32])\n",
            "Epoch 184/2: Training loss = 0.9999995231628418\n",
            "torch.Size([1, 3, 32, 32])\n",
            "Epoch 185/2: Training loss = 0.9999995231628418\n",
            "torch.Size([1, 3, 32, 32])\n",
            "Epoch 186/2: Training loss = 0.9999995231628418\n",
            "torch.Size([1, 3, 32, 32])\n",
            "Epoch 187/2: Training loss = 0.9999995231628418\n",
            "torch.Size([1, 3, 32, 32])\n",
            "Epoch 188/2: Training loss = 0.9999995231628418\n",
            "torch.Size([1, 3, 32, 32])\n",
            "Epoch 189/2: Training loss = 0.9999995231628418\n",
            "torch.Size([1, 3, 32, 32])\n",
            "Epoch 190/2: Training loss = 0.9999995231628418\n",
            "torch.Size([1, 3, 32, 32])\n",
            "Epoch 191/2: Training loss = 0.9999995231628418\n",
            "torch.Size([1, 3, 32, 32])\n",
            "Epoch 192/2: Training loss = 0.9999995231628418\n",
            "torch.Size([1, 3, 32, 32])\n",
            "Epoch 193/2: Training loss = 0.9999995231628418\n",
            "torch.Size([1, 3, 32, 32])\n",
            "Epoch 194/2: Training loss = 0.9999995231628418\n",
            "torch.Size([1, 3, 32, 32])\n",
            "Epoch 195/2: Training loss = 0.9999995231628418\n",
            "torch.Size([1, 3, 32, 32])\n",
            "Epoch 196/2: Training loss = 0.9999995231628418\n",
            "torch.Size([1, 3, 32, 32])\n",
            "Epoch 197/2: Training loss = 0.9999995231628418\n",
            "torch.Size([1, 3, 32, 32])\n",
            "Epoch 198/2: Training loss = 0.9999995231628418\n",
            "torch.Size([1, 3, 32, 32])\n",
            "Epoch 199/2: Training loss = 0.9999995231628418\n",
            "torch.Size([1, 3, 32, 32])\n",
            "Epoch 200/2: Training loss = 0.9999995231628418\n",
            "torch.Size([1, 3, 32, 32])\n",
            "Epoch 201/2: Training loss = 0.9999995231628418\n",
            "torch.Size([1, 3, 32, 32])\n",
            "Epoch 202/2: Training loss = 0.9999995231628418\n",
            "torch.Size([1, 3, 32, 32])\n",
            "Epoch 203/2: Training loss = 0.9999995231628418\n",
            "torch.Size([1, 3, 32, 32])\n",
            "Epoch 204/2: Training loss = 0.9999995231628418\n",
            "torch.Size([1, 3, 32, 32])\n",
            "Epoch 205/2: Training loss = 0.9999995231628418\n",
            "torch.Size([1, 3, 32, 32])\n",
            "Epoch 206/2: Training loss = 0.9999995231628418\n",
            "torch.Size([1, 3, 32, 32])\n",
            "Epoch 207/2: Training loss = 0.9999995231628418\n",
            "torch.Size([1, 3, 32, 32])\n",
            "Epoch 208/2: Training loss = 0.9999995231628418\n",
            "torch.Size([1, 3, 32, 32])\n",
            "Epoch 209/2: Training loss = 0.9999995231628418\n",
            "torch.Size([1, 3, 32, 32])\n",
            "Epoch 210/2: Training loss = 0.9999995231628418\n",
            "torch.Size([1, 3, 32, 32])\n",
            "Epoch 211/2: Training loss = 0.9999995231628418\n",
            "torch.Size([1, 3, 32, 32])\n",
            "Epoch 212/2: Training loss = 0.9999995231628418\n",
            "torch.Size([1, 3, 32, 32])\n",
            "Epoch 213/2: Training loss = 0.9999995231628418\n",
            "torch.Size([1, 3, 32, 32])\n",
            "Epoch 214/2: Training loss = 0.9999995231628418\n",
            "torch.Size([1, 3, 32, 32])\n",
            "Epoch 215/2: Training loss = 0.9999995231628418\n",
            "torch.Size([1, 3, 32, 32])\n",
            "Epoch 216/2: Training loss = 0.9999995231628418\n",
            "torch.Size([1, 3, 32, 32])\n",
            "Epoch 217/2: Training loss = 0.9999995231628418\n",
            "torch.Size([1, 3, 32, 32])\n",
            "Epoch 218/2: Training loss = 0.9999995231628418\n",
            "torch.Size([1, 3, 32, 32])\n",
            "Epoch 219/2: Training loss = 0.9999995231628418\n",
            "torch.Size([1, 3, 32, 32])\n",
            "Epoch 220/2: Training loss = 0.9999995231628418\n",
            "torch.Size([1, 3, 32, 32])\n",
            "Epoch 221/2: Training loss = 0.9999995231628418\n",
            "torch.Size([1, 3, 32, 32])\n",
            "Epoch 222/2: Training loss = 0.9999995231628418\n",
            "torch.Size([1, 3, 32, 32])\n",
            "Epoch 223/2: Training loss = 0.9999995231628418\n",
            "torch.Size([1, 3, 32, 32])\n",
            "Epoch 224/2: Training loss = 0.9999995231628418\n",
            "torch.Size([1, 3, 32, 32])\n",
            "Epoch 225/2: Training loss = 0.9999995231628418\n",
            "torch.Size([1, 3, 32, 32])\n",
            "Epoch 226/2: Training loss = 0.9999995231628418\n",
            "torch.Size([1, 3, 32, 32])\n",
            "Epoch 227/2: Training loss = 0.9999995231628418\n",
            "torch.Size([1, 3, 32, 32])\n",
            "Epoch 228/2: Training loss = 0.9999995231628418\n",
            "torch.Size([1, 3, 32, 32])\n",
            "Epoch 229/2: Training loss = 0.9999995231628418\n",
            "torch.Size([1, 3, 32, 32])\n",
            "Epoch 230/2: Training loss = 0.9999995231628418\n",
            "torch.Size([1, 3, 32, 32])\n",
            "Epoch 231/2: Training loss = 0.9999995231628418\n",
            "torch.Size([1, 3, 32, 32])\n",
            "Epoch 232/2: Training loss = 0.9999995231628418\n",
            "torch.Size([1, 3, 32, 32])\n",
            "Epoch 233/2: Training loss = 0.9999995231628418\n",
            "torch.Size([1, 3, 32, 32])\n",
            "Epoch 234/2: Training loss = 0.9999995231628418\n",
            "torch.Size([1, 3, 32, 32])\n",
            "Epoch 235/2: Training loss = 0.9999995231628418\n",
            "torch.Size([1, 3, 32, 32])\n",
            "Epoch 236/2: Training loss = 0.9999995231628418\n",
            "torch.Size([1, 3, 32, 32])\n",
            "Epoch 237/2: Training loss = 0.9999995231628418\n",
            "torch.Size([1, 3, 32, 32])\n",
            "Epoch 238/2: Training loss = 0.9999995231628418\n",
            "torch.Size([1, 3, 32, 32])\n",
            "Epoch 239/2: Training loss = 0.9999995231628418\n",
            "torch.Size([1, 3, 32, 32])\n",
            "Epoch 240/2: Training loss = 0.9999995231628418\n",
            "torch.Size([1, 3, 32, 32])\n",
            "Epoch 241/2: Training loss = 0.9999995231628418\n",
            "torch.Size([1, 3, 32, 32])\n",
            "Epoch 242/2: Training loss = 0.9999995231628418\n",
            "torch.Size([1, 3, 32, 32])\n",
            "Epoch 243/2: Training loss = 0.9999995231628418\n",
            "torch.Size([1, 3, 32, 32])\n",
            "Epoch 244/2: Training loss = 0.9999995231628418\n",
            "torch.Size([1, 3, 32, 32])\n",
            "Epoch 245/2: Training loss = 0.9999995231628418\n",
            "torch.Size([1, 3, 32, 32])\n",
            "Epoch 246/2: Training loss = 0.9999995231628418\n",
            "torch.Size([1, 3, 32, 32])\n",
            "Epoch 247/2: Training loss = 0.9999995231628418\n",
            "torch.Size([1, 3, 32, 32])\n",
            "Epoch 248/2: Training loss = 0.9999995231628418\n",
            "torch.Size([1, 3, 32, 32])\n",
            "Epoch 249/2: Training loss = 0.9999995231628418\n",
            "torch.Size([1, 3, 32, 32])\n",
            "Epoch 250/2: Training loss = 0.9999995231628418\n",
            "torch.Size([1, 3, 32, 32])\n",
            "Epoch 251/2: Training loss = 0.9999995231628418\n",
            "torch.Size([1, 3, 32, 32])\n",
            "Epoch 252/2: Training loss = 0.9999995231628418\n",
            "torch.Size([1, 3, 32, 32])\n",
            "Epoch 253/2: Training loss = 0.9999995231628418\n",
            "torch.Size([1, 3, 32, 32])\n",
            "Epoch 254/2: Training loss = 0.9999995231628418\n",
            "torch.Size([1, 3, 32, 32])\n",
            "Epoch 255/2: Training loss = 0.9999995231628418\n",
            "torch.Size([1, 3, 32, 32])\n",
            "Epoch 256/2: Training loss = 0.9999995231628418\n",
            "torch.Size([1, 3, 32, 32])\n",
            "Epoch 257/2: Training loss = 0.9999995231628418\n",
            "torch.Size([1, 3, 32, 32])\n",
            "Epoch 258/2: Training loss = 0.9999995231628418\n",
            "torch.Size([1, 3, 32, 32])\n",
            "Epoch 259/2: Training loss = 0.9999995231628418\n",
            "torch.Size([1, 3, 32, 32])\n",
            "Epoch 260/2: Training loss = 0.9999995231628418\n",
            "torch.Size([1, 3, 32, 32])\n",
            "Epoch 261/2: Training loss = 0.9999995231628418\n",
            "torch.Size([1, 3, 32, 32])\n",
            "Epoch 262/2: Training loss = 0.9999995231628418\n",
            "torch.Size([1, 3, 32, 32])\n",
            "Epoch 263/2: Training loss = 0.9999995231628418\n",
            "torch.Size([1, 3, 32, 32])\n",
            "Epoch 264/2: Training loss = 0.9999995231628418\n",
            "torch.Size([1, 3, 32, 32])\n",
            "Epoch 265/2: Training loss = 0.9999995231628418\n",
            "torch.Size([1, 3, 32, 32])\n",
            "Epoch 266/2: Training loss = 0.9999995231628418\n",
            "torch.Size([1, 3, 32, 32])\n",
            "Epoch 267/2: Training loss = 0.9999995231628418\n",
            "torch.Size([1, 3, 32, 32])\n",
            "Epoch 268/2: Training loss = 0.9999995231628418\n",
            "torch.Size([1, 3, 32, 32])\n",
            "Epoch 269/2: Training loss = 0.9999995231628418\n",
            "torch.Size([1, 3, 32, 32])\n",
            "Epoch 270/2: Training loss = 0.9999995231628418\n",
            "torch.Size([1, 3, 32, 32])\n",
            "Epoch 271/2: Training loss = 0.9999995231628418\n",
            "torch.Size([1, 3, 32, 32])\n",
            "Epoch 272/2: Training loss = 0.9999995231628418\n",
            "torch.Size([1, 3, 32, 32])\n",
            "Epoch 273/2: Training loss = 0.9999995231628418\n",
            "torch.Size([1, 3, 32, 32])\n",
            "Epoch 274/2: Training loss = 0.9999995231628418\n",
            "torch.Size([1, 3, 32, 32])\n",
            "Epoch 275/2: Training loss = 0.9999995231628418\n",
            "torch.Size([1, 3, 32, 32])\n",
            "Epoch 276/2: Training loss = 0.9999995231628418\n",
            "torch.Size([1, 3, 32, 32])\n",
            "Epoch 277/2: Training loss = 0.9999995231628418\n",
            "torch.Size([1, 3, 32, 32])\n",
            "Epoch 278/2: Training loss = 0.9999995231628418\n",
            "torch.Size([1, 3, 32, 32])\n",
            "Epoch 279/2: Training loss = 0.9999995231628418\n",
            "torch.Size([1, 3, 32, 32])\n",
            "Epoch 280/2: Training loss = 0.9999995231628418\n",
            "torch.Size([1, 3, 32, 32])\n",
            "Epoch 281/2: Training loss = 0.9999995231628418\n",
            "torch.Size([1, 3, 32, 32])\n",
            "Epoch 282/2: Training loss = 0.9999995231628418\n",
            "torch.Size([1, 3, 32, 32])\n",
            "Epoch 283/2: Training loss = 0.9999995231628418\n",
            "torch.Size([1, 3, 32, 32])\n",
            "Epoch 284/2: Training loss = 0.9999995231628418\n",
            "torch.Size([1, 3, 32, 32])\n",
            "Epoch 285/2: Training loss = 0.9999995231628418\n",
            "torch.Size([1, 3, 32, 32])\n",
            "Epoch 286/2: Training loss = 0.9999995231628418\n",
            "torch.Size([1, 3, 32, 32])\n",
            "Epoch 287/2: Training loss = 0.9999995231628418\n",
            "torch.Size([1, 3, 32, 32])\n",
            "Epoch 288/2: Training loss = 0.9999995231628418\n",
            "torch.Size([1, 3, 32, 32])\n",
            "Epoch 289/2: Training loss = 0.9999995231628418\n",
            "torch.Size([1, 3, 32, 32])\n",
            "Epoch 290/2: Training loss = 0.9999995231628418\n",
            "torch.Size([1, 3, 32, 32])\n",
            "Epoch 291/2: Training loss = 0.9999995231628418\n",
            "torch.Size([1, 3, 32, 32])\n",
            "Epoch 292/2: Training loss = 0.9999995231628418\n",
            "torch.Size([1, 3, 32, 32])\n",
            "Epoch 293/2: Training loss = 0.9999995231628418\n",
            "torch.Size([1, 3, 32, 32])\n",
            "Epoch 294/2: Training loss = 0.9999995231628418\n",
            "torch.Size([1, 3, 32, 32])\n",
            "Epoch 295/2: Training loss = 0.9999995231628418\n",
            "torch.Size([1, 3, 32, 32])\n",
            "Epoch 296/2: Training loss = 0.9999995231628418\n",
            "torch.Size([1, 3, 32, 32])\n",
            "Epoch 297/2: Training loss = 0.9999995231628418\n",
            "torch.Size([1, 3, 32, 32])\n",
            "Epoch 298/2: Training loss = 0.9999995231628418\n",
            "torch.Size([1, 3, 32, 32])\n",
            "Epoch 299/2: Training loss = 0.9999995231628418\n",
            "torch.Size([1, 3, 32, 32])\n",
            "Epoch 300/2: Training loss = 0.9999995231628418\n",
            "torch.Size([1, 3, 32, 32])\n",
            "Epoch 301/2: Training loss = 0.9999995231628418\n",
            "torch.Size([1, 3, 32, 32])\n",
            "Epoch 302/2: Training loss = 0.9999995231628418\n",
            "torch.Size([1, 3, 32, 32])\n",
            "Epoch 303/2: Training loss = 0.9999995231628418\n",
            "torch.Size([1, 3, 32, 32])\n",
            "Epoch 304/2: Training loss = 0.9999995231628418\n",
            "torch.Size([1, 3, 32, 32])\n",
            "Epoch 305/2: Training loss = 0.9999995231628418\n",
            "torch.Size([1, 3, 32, 32])\n",
            "Epoch 306/2: Training loss = 0.9999995231628418\n",
            "torch.Size([1, 3, 32, 32])\n",
            "Epoch 307/2: Training loss = 0.9999995231628418\n",
            "torch.Size([1, 3, 32, 32])\n",
            "Epoch 308/2: Training loss = 0.9999995231628418\n",
            "torch.Size([1, 3, 32, 32])\n",
            "Epoch 309/2: Training loss = 0.9999995231628418\n",
            "torch.Size([1, 3, 32, 32])\n",
            "Epoch 310/2: Training loss = 0.9999995231628418\n",
            "torch.Size([1, 3, 32, 32])\n",
            "Epoch 311/2: Training loss = 0.9999995231628418\n",
            "torch.Size([1, 3, 32, 32])\n",
            "Epoch 312/2: Training loss = 0.9999995231628418\n",
            "torch.Size([1, 3, 32, 32])\n",
            "Epoch 313/2: Training loss = 0.9999995231628418\n",
            "torch.Size([1, 3, 32, 32])\n",
            "Epoch 314/2: Training loss = 0.9999995231628418\n",
            "torch.Size([1, 3, 32, 32])\n",
            "Epoch 315/2: Training loss = 0.9999995231628418\n",
            "torch.Size([1, 3, 32, 32])\n",
            "Epoch 316/2: Training loss = 0.9999995231628418\n",
            "torch.Size([1, 3, 32, 32])\n",
            "Epoch 317/2: Training loss = 0.9999995231628418\n",
            "torch.Size([1, 3, 32, 32])\n",
            "Epoch 318/2: Training loss = 0.9999995231628418\n",
            "torch.Size([1, 3, 32, 32])\n",
            "Epoch 319/2: Training loss = 0.9999995231628418\n",
            "torch.Size([1, 3, 32, 32])\n",
            "Epoch 320/2: Training loss = 0.9999995231628418\n",
            "torch.Size([1, 3, 32, 32])\n",
            "Epoch 321/2: Training loss = 0.9999995231628418\n",
            "torch.Size([1, 3, 32, 32])\n",
            "Epoch 322/2: Training loss = 0.9999995231628418\n",
            "torch.Size([1, 3, 32, 32])\n",
            "Epoch 323/2: Training loss = 0.9999995231628418\n",
            "torch.Size([1, 3, 32, 32])\n",
            "Epoch 324/2: Training loss = 0.9999995231628418\n",
            "torch.Size([1, 3, 32, 32])\n",
            "Epoch 325/2: Training loss = 0.9999995231628418\n",
            "torch.Size([1, 3, 32, 32])\n",
            "Epoch 326/2: Training loss = 0.9999995231628418\n",
            "torch.Size([1, 3, 32, 32])\n",
            "Epoch 327/2: Training loss = 0.9999995231628418\n",
            "torch.Size([1, 3, 32, 32])\n",
            "Epoch 328/2: Training loss = 0.9999995231628418\n",
            "torch.Size([1, 3, 32, 32])\n",
            "Epoch 329/2: Training loss = 0.9999995231628418\n",
            "torch.Size([1, 3, 32, 32])\n",
            "Epoch 330/2: Training loss = 0.9999995231628418\n",
            "torch.Size([1, 3, 32, 32])\n",
            "Epoch 331/2: Training loss = 0.9999995231628418\n",
            "torch.Size([1, 3, 32, 32])\n",
            "Epoch 332/2: Training loss = 0.9999995231628418\n",
            "torch.Size([1, 3, 32, 32])\n",
            "Epoch 333/2: Training loss = 0.9999995231628418\n",
            "torch.Size([1, 3, 32, 32])\n",
            "Epoch 334/2: Training loss = 0.9999995231628418\n",
            "torch.Size([1, 3, 32, 32])\n",
            "Epoch 335/2: Training loss = 0.9999995231628418\n",
            "torch.Size([1, 3, 32, 32])\n",
            "Epoch 336/2: Training loss = 0.9999995231628418\n",
            "torch.Size([1, 3, 32, 32])\n",
            "Epoch 337/2: Training loss = 0.9999995231628418\n",
            "torch.Size([1, 3, 32, 32])\n",
            "Epoch 338/2: Training loss = 0.9999995231628418\n",
            "torch.Size([1, 3, 32, 32])\n",
            "Epoch 339/2: Training loss = 0.9999995231628418\n",
            "torch.Size([1, 3, 32, 32])\n",
            "Epoch 340/2: Training loss = 0.9999995231628418\n",
            "torch.Size([1, 3, 32, 32])\n",
            "Epoch 341/2: Training loss = 0.9999995231628418\n",
            "torch.Size([1, 3, 32, 32])\n",
            "Epoch 342/2: Training loss = 0.9999995231628418\n",
            "torch.Size([1, 3, 32, 32])\n",
            "Epoch 343/2: Training loss = 0.9999995231628418\n",
            "torch.Size([1, 3, 32, 32])\n",
            "Epoch 344/2: Training loss = 0.9999995231628418\n",
            "torch.Size([1, 3, 32, 32])\n",
            "Epoch 345/2: Training loss = 0.9999995231628418\n",
            "torch.Size([1, 3, 32, 32])\n",
            "Epoch 346/2: Training loss = 0.9999995231628418\n",
            "torch.Size([1, 3, 32, 32])\n",
            "Epoch 347/2: Training loss = 0.9999995231628418\n",
            "torch.Size([1, 3, 32, 32])\n",
            "Epoch 348/2: Training loss = 0.9999995231628418\n",
            "torch.Size([1, 3, 32, 32])\n",
            "Epoch 349/2: Training loss = 0.9999995231628418\n",
            "torch.Size([1, 3, 32, 32])\n",
            "Epoch 350/2: Training loss = 0.9999995231628418\n",
            "torch.Size([1, 3, 32, 32])\n",
            "Epoch 351/2: Training loss = 0.9999995231628418\n",
            "torch.Size([1, 3, 32, 32])\n",
            "Epoch 352/2: Training loss = 0.9999995231628418\n",
            "torch.Size([1, 3, 32, 32])\n",
            "Epoch 353/2: Training loss = 0.9999995231628418\n",
            "torch.Size([1, 3, 32, 32])\n",
            "Epoch 354/2: Training loss = 0.9999995231628418\n",
            "torch.Size([1, 3, 32, 32])\n",
            "Epoch 355/2: Training loss = 0.9999995231628418\n",
            "torch.Size([1, 3, 32, 32])\n",
            "Epoch 356/2: Training loss = 0.9999995231628418\n",
            "torch.Size([1, 3, 32, 32])\n",
            "Epoch 357/2: Training loss = 0.9999995231628418\n",
            "torch.Size([1, 3, 32, 32])\n",
            "Epoch 358/2: Training loss = 0.9999995231628418\n",
            "torch.Size([1, 3, 32, 32])\n",
            "Epoch 359/2: Training loss = 0.9999995231628418\n",
            "torch.Size([1, 3, 32, 32])\n",
            "Epoch 360/2: Training loss = 0.9999995231628418\n",
            "torch.Size([1, 3, 32, 32])\n",
            "Epoch 361/2: Training loss = 0.9999995231628418\n",
            "torch.Size([1, 3, 32, 32])\n",
            "Epoch 362/2: Training loss = 0.9999995231628418\n",
            "torch.Size([1, 3, 32, 32])\n",
            "Epoch 363/2: Training loss = 0.9999995231628418\n",
            "torch.Size([1, 3, 32, 32])\n",
            "Epoch 364/2: Training loss = 0.9999995231628418\n",
            "torch.Size([1, 3, 32, 32])\n",
            "Epoch 365/2: Training loss = 0.9999995231628418\n",
            "torch.Size([1, 3, 32, 32])\n",
            "Epoch 366/2: Training loss = 0.9999995231628418\n",
            "torch.Size([1, 3, 32, 32])\n",
            "Epoch 367/2: Training loss = 0.9999995231628418\n",
            "torch.Size([1, 3, 32, 32])\n",
            "Epoch 368/2: Training loss = 0.9999995231628418\n",
            "torch.Size([1, 3, 32, 32])\n",
            "Epoch 369/2: Training loss = 0.9999995231628418\n",
            "torch.Size([1, 3, 32, 32])\n",
            "Epoch 370/2: Training loss = 0.9999995231628418\n",
            "torch.Size([1, 3, 32, 32])\n",
            "Epoch 371/2: Training loss = 0.9999995231628418\n",
            "torch.Size([1, 3, 32, 32])\n",
            "Epoch 372/2: Training loss = 0.9999995231628418\n",
            "torch.Size([1, 3, 32, 32])\n",
            "Epoch 373/2: Training loss = 0.9999995231628418\n",
            "torch.Size([1, 3, 32, 32])\n",
            "Epoch 374/2: Training loss = 0.9999995231628418\n",
            "torch.Size([1, 3, 32, 32])\n",
            "Epoch 375/2: Training loss = 0.9999995231628418\n",
            "torch.Size([1, 3, 32, 32])\n",
            "Epoch 376/2: Training loss = 0.9999995231628418\n",
            "torch.Size([1, 3, 32, 32])\n",
            "Epoch 377/2: Training loss = 0.9999995231628418\n",
            "torch.Size([1, 3, 32, 32])\n",
            "Epoch 378/2: Training loss = 0.9999995231628418\n",
            "torch.Size([1, 3, 32, 32])\n",
            "Epoch 379/2: Training loss = 0.9999995231628418\n",
            "torch.Size([1, 3, 32, 32])\n",
            "Epoch 380/2: Training loss = 0.9999995231628418\n",
            "torch.Size([1, 3, 32, 32])\n",
            "Epoch 381/2: Training loss = 0.9999995231628418\n",
            "torch.Size([1, 3, 32, 32])\n",
            "Epoch 382/2: Training loss = 0.9999995231628418\n",
            "torch.Size([1, 3, 32, 32])\n",
            "Epoch 383/2: Training loss = 0.9999995231628418\n",
            "torch.Size([1, 3, 32, 32])\n",
            "Epoch 384/2: Training loss = 0.9999995231628418\n",
            "torch.Size([1, 3, 32, 32])\n",
            "Epoch 385/2: Training loss = 0.9999995231628418\n",
            "torch.Size([1, 3, 32, 32])\n",
            "Epoch 386/2: Training loss = 0.9999995231628418\n",
            "torch.Size([1, 3, 32, 32])\n",
            "Epoch 387/2: Training loss = 0.9999995231628418\n",
            "torch.Size([1, 3, 32, 32])\n",
            "Epoch 388/2: Training loss = 0.9999995231628418\n",
            "torch.Size([1, 3, 32, 32])\n",
            "Epoch 389/2: Training loss = 0.9999995231628418\n",
            "torch.Size([1, 3, 32, 32])\n",
            "Epoch 390/2: Training loss = 0.9999995231628418\n",
            "torch.Size([1, 3, 32, 32])\n",
            "Epoch 391/2: Training loss = 0.9999995231628418\n",
            "torch.Size([1, 3, 32, 32])\n",
            "Epoch 392/2: Training loss = 0.9999995231628418\n",
            "torch.Size([1, 3, 32, 32])\n",
            "Epoch 393/2: Training loss = 0.9999995231628418\n",
            "torch.Size([1, 3, 32, 32])\n",
            "Epoch 394/2: Training loss = 0.9999995231628418\n",
            "torch.Size([1, 3, 32, 32])\n",
            "Epoch 395/2: Training loss = 0.9999995231628418\n",
            "torch.Size([1, 3, 32, 32])\n",
            "Epoch 396/2: Training loss = 0.9999995231628418\n",
            "torch.Size([1, 3, 32, 32])\n",
            "Epoch 397/2: Training loss = 0.9999995231628418\n",
            "torch.Size([1, 3, 32, 32])\n",
            "Epoch 398/2: Training loss = 0.9999995231628418\n",
            "torch.Size([1, 3, 32, 32])\n",
            "Epoch 399/2: Training loss = 0.9999995231628418\n",
            "torch.Size([1, 3, 32, 32])\n",
            "Epoch 400/2: Training loss = 0.9999995231628418\n",
            "torch.Size([1, 3, 32, 32])\n",
            "Epoch 401/2: Training loss = 0.9999995231628418\n",
            "torch.Size([1, 3, 32, 32])\n",
            "Epoch 402/2: Training loss = 0.9999995231628418\n",
            "torch.Size([1, 3, 32, 32])\n",
            "Epoch 403/2: Training loss = 0.9999995231628418\n",
            "torch.Size([1, 3, 32, 32])\n",
            "Epoch 404/2: Training loss = 0.9999995231628418\n",
            "torch.Size([1, 3, 32, 32])\n",
            "Epoch 405/2: Training loss = 0.9999995231628418\n",
            "torch.Size([1, 3, 32, 32])\n",
            "Epoch 406/2: Training loss = 0.9999995231628418\n",
            "torch.Size([1, 3, 32, 32])\n",
            "Epoch 407/2: Training loss = 0.9999995231628418\n",
            "torch.Size([1, 3, 32, 32])\n",
            "Epoch 408/2: Training loss = 0.9999995231628418\n",
            "torch.Size([1, 3, 32, 32])\n",
            "Epoch 409/2: Training loss = 0.9999995231628418\n",
            "torch.Size([1, 3, 32, 32])\n",
            "Epoch 410/2: Training loss = 0.9999995231628418\n",
            "torch.Size([1, 3, 32, 32])\n",
            "Epoch 411/2: Training loss = 0.9999995231628418\n",
            "torch.Size([1, 3, 32, 32])\n",
            "Epoch 412/2: Training loss = 0.9999995231628418\n",
            "torch.Size([1, 3, 32, 32])\n",
            "Epoch 413/2: Training loss = 0.9999995231628418\n",
            "torch.Size([1, 3, 32, 32])\n",
            "Epoch 414/2: Training loss = 0.9999995231628418\n",
            "torch.Size([1, 3, 32, 32])\n",
            "Epoch 415/2: Training loss = 0.9999995231628418\n",
            "torch.Size([1, 3, 32, 32])\n",
            "Epoch 416/2: Training loss = 0.9999995231628418\n",
            "torch.Size([1, 3, 32, 32])\n",
            "Epoch 417/2: Training loss = 0.9999995231628418\n",
            "torch.Size([1, 3, 32, 32])\n",
            "Epoch 418/2: Training loss = 0.9999995231628418\n",
            "torch.Size([1, 3, 32, 32])\n",
            "Epoch 419/2: Training loss = 0.9999995231628418\n",
            "torch.Size([1, 3, 32, 32])\n",
            "Epoch 420/2: Training loss = 0.9999995231628418\n",
            "torch.Size([1, 3, 32, 32])\n",
            "Epoch 421/2: Training loss = 0.9999995231628418\n",
            "torch.Size([1, 3, 32, 32])\n",
            "Epoch 422/2: Training loss = 0.9999995231628418\n",
            "torch.Size([1, 3, 32, 32])\n",
            "Epoch 423/2: Training loss = 0.9999995231628418\n",
            "torch.Size([1, 3, 32, 32])\n",
            "Epoch 424/2: Training loss = 0.9999995231628418\n",
            "torch.Size([1, 3, 32, 32])\n",
            "Epoch 425/2: Training loss = 0.9999995231628418\n",
            "torch.Size([1, 3, 32, 32])\n",
            "Epoch 426/2: Training loss = 0.9999995231628418\n",
            "torch.Size([1, 3, 32, 32])\n",
            "Epoch 427/2: Training loss = 0.9999995231628418\n",
            "torch.Size([1, 3, 32, 32])\n",
            "Epoch 428/2: Training loss = 0.9999995231628418\n",
            "torch.Size([1, 3, 32, 32])\n",
            "Epoch 429/2: Training loss = 0.9999995231628418\n",
            "torch.Size([1, 3, 32, 32])\n",
            "Epoch 430/2: Training loss = 0.9999995231628418\n",
            "torch.Size([1, 3, 32, 32])\n",
            "Epoch 431/2: Training loss = 0.9999995231628418\n",
            "torch.Size([1, 3, 32, 32])\n",
            "Epoch 432/2: Training loss = 0.9999995231628418\n",
            "torch.Size([1, 3, 32, 32])\n",
            "Epoch 433/2: Training loss = 0.9999995231628418\n",
            "torch.Size([1, 3, 32, 32])\n",
            "Epoch 434/2: Training loss = 0.9999995231628418\n",
            "torch.Size([1, 3, 32, 32])\n",
            "Epoch 435/2: Training loss = 0.9999995231628418\n",
            "torch.Size([1, 3, 32, 32])\n",
            "Epoch 436/2: Training loss = 0.9999995231628418\n",
            "torch.Size([1, 3, 32, 32])\n",
            "Epoch 437/2: Training loss = 0.9999995231628418\n",
            "torch.Size([1, 3, 32, 32])\n",
            "Epoch 438/2: Training loss = 0.9999995231628418\n",
            "torch.Size([1, 3, 32, 32])\n",
            "Epoch 439/2: Training loss = 0.9999995231628418\n",
            "torch.Size([1, 3, 32, 32])\n",
            "Epoch 440/2: Training loss = 0.9999995231628418\n",
            "torch.Size([1, 3, 32, 32])\n",
            "Epoch 441/2: Training loss = 0.9999995231628418\n",
            "torch.Size([1, 3, 32, 32])\n",
            "Epoch 442/2: Training loss = 0.9999995231628418\n",
            "torch.Size([1, 3, 32, 32])\n",
            "Epoch 443/2: Training loss = 0.9999995231628418\n",
            "torch.Size([1, 3, 32, 32])\n",
            "Epoch 444/2: Training loss = 0.9999995231628418\n",
            "torch.Size([1, 3, 32, 32])\n",
            "Epoch 445/2: Training loss = 0.9999995231628418\n",
            "torch.Size([1, 3, 32, 32])\n",
            "Epoch 446/2: Training loss = 0.9999995231628418\n",
            "torch.Size([1, 3, 32, 32])\n",
            "Epoch 447/2: Training loss = 0.9999995231628418\n",
            "torch.Size([1, 3, 32, 32])\n",
            "Epoch 448/2: Training loss = 0.9999995231628418\n",
            "torch.Size([1, 3, 32, 32])\n",
            "Epoch 449/2: Training loss = 0.9999995231628418\n",
            "torch.Size([1, 3, 32, 32])\n",
            "Epoch 450/2: Training loss = 0.9999995231628418\n",
            "torch.Size([1, 3, 32, 32])\n",
            "Epoch 451/2: Training loss = 0.9999995231628418\n",
            "torch.Size([1, 3, 32, 32])\n",
            "Epoch 452/2: Training loss = 0.9999995231628418\n",
            "torch.Size([1, 3, 32, 32])\n",
            "Epoch 453/2: Training loss = 0.9999995231628418\n",
            "torch.Size([1, 3, 32, 32])\n",
            "Epoch 454/2: Training loss = 0.9999995231628418\n",
            "torch.Size([1, 3, 32, 32])\n",
            "Epoch 455/2: Training loss = 0.9999995231628418\n",
            "torch.Size([1, 3, 32, 32])\n",
            "Epoch 456/2: Training loss = 0.9999995231628418\n",
            "torch.Size([1, 3, 32, 32])\n",
            "Epoch 457/2: Training loss = 0.9999995231628418\n",
            "torch.Size([1, 3, 32, 32])\n",
            "Epoch 458/2: Training loss = 0.9999995231628418\n",
            "torch.Size([1, 3, 32, 32])\n",
            "Epoch 459/2: Training loss = 0.9999995231628418\n",
            "torch.Size([1, 3, 32, 32])\n",
            "Epoch 460/2: Training loss = 0.9999995231628418\n",
            "torch.Size([1, 3, 32, 32])\n",
            "Epoch 461/2: Training loss = 0.9999995231628418\n",
            "torch.Size([1, 3, 32, 32])\n",
            "Epoch 462/2: Training loss = 0.9999995231628418\n",
            "torch.Size([1, 3, 32, 32])\n",
            "Epoch 463/2: Training loss = 0.9999995231628418\n",
            "torch.Size([1, 3, 32, 32])\n",
            "Epoch 464/2: Training loss = 0.9999995231628418\n",
            "torch.Size([1, 3, 32, 32])\n",
            "Epoch 465/2: Training loss = 0.9999995231628418\n",
            "torch.Size([1, 3, 32, 32])\n",
            "Epoch 466/2: Training loss = 0.9999995231628418\n",
            "torch.Size([1, 3, 32, 32])\n",
            "Epoch 467/2: Training loss = 0.9999995231628418\n",
            "torch.Size([1, 3, 32, 32])\n",
            "Epoch 468/2: Training loss = 0.9999995231628418\n",
            "torch.Size([1, 3, 32, 32])\n",
            "Epoch 469/2: Training loss = 0.9999995231628418\n",
            "torch.Size([1, 3, 32, 32])\n",
            "Epoch 470/2: Training loss = 0.9999995231628418\n",
            "torch.Size([1, 3, 32, 32])\n",
            "Epoch 471/2: Training loss = 0.9999995231628418\n",
            "torch.Size([1, 3, 32, 32])\n",
            "Epoch 472/2: Training loss = 0.9999995231628418\n",
            "torch.Size([1, 3, 32, 32])\n",
            "Epoch 473/2: Training loss = 0.9999995231628418\n",
            "torch.Size([1, 3, 32, 32])\n",
            "Epoch 474/2: Training loss = 0.9999995231628418\n",
            "torch.Size([1, 3, 32, 32])\n",
            "Epoch 475/2: Training loss = 0.9999995231628418\n",
            "torch.Size([1, 3, 32, 32])\n",
            "Epoch 476/2: Training loss = 0.9999995231628418\n",
            "torch.Size([1, 3, 32, 32])\n",
            "Epoch 477/2: Training loss = 0.9999995231628418\n",
            "torch.Size([1, 3, 32, 32])\n",
            "Epoch 478/2: Training loss = 0.9999995231628418\n",
            "torch.Size([1, 3, 32, 32])\n",
            "Epoch 479/2: Training loss = 0.9999995231628418\n",
            "torch.Size([1, 3, 32, 32])\n",
            "Epoch 480/2: Training loss = 0.9999995231628418\n",
            "torch.Size([1, 3, 32, 32])\n",
            "Epoch 481/2: Training loss = 0.9999995231628418\n",
            "torch.Size([1, 3, 32, 32])\n",
            "Epoch 482/2: Training loss = 0.9999995231628418\n",
            "torch.Size([1, 3, 32, 32])\n",
            "Epoch 483/2: Training loss = 0.9999995231628418\n",
            "torch.Size([1, 3, 32, 32])\n",
            "Epoch 484/2: Training loss = 0.9999995231628418\n",
            "torch.Size([1, 3, 32, 32])\n",
            "Epoch 485/2: Training loss = 0.9999995231628418\n",
            "torch.Size([1, 3, 32, 32])\n",
            "Epoch 486/2: Training loss = 0.9999995231628418\n",
            "torch.Size([1, 3, 32, 32])\n",
            "Epoch 487/2: Training loss = 0.9999995231628418\n",
            "torch.Size([1, 3, 32, 32])\n",
            "Epoch 488/2: Training loss = 0.9999995231628418\n",
            "torch.Size([1, 3, 32, 32])\n",
            "Epoch 489/2: Training loss = 0.9999995231628418\n",
            "torch.Size([1, 3, 32, 32])\n",
            "Epoch 490/2: Training loss = 0.9999995231628418\n",
            "torch.Size([1, 3, 32, 32])\n",
            "Epoch 491/2: Training loss = 0.9999995231628418\n",
            "torch.Size([1, 3, 32, 32])\n",
            "Epoch 492/2: Training loss = 0.9999995231628418\n",
            "torch.Size([1, 3, 32, 32])\n",
            "Epoch 493/2: Training loss = 0.9999995231628418\n",
            "torch.Size([1, 3, 32, 32])\n",
            "Epoch 494/2: Training loss = 0.9999995231628418\n",
            "torch.Size([1, 3, 32, 32])\n",
            "Epoch 495/2: Training loss = 0.9999995231628418\n",
            "torch.Size([1, 3, 32, 32])\n",
            "Epoch 496/2: Training loss = 0.9999995231628418\n",
            "torch.Size([1, 3, 32, 32])\n",
            "Epoch 497/2: Training loss = 0.9999995231628418\n",
            "torch.Size([1, 3, 32, 32])\n",
            "Epoch 498/2: Training loss = 0.9999995231628418\n",
            "torch.Size([1, 3, 32, 32])\n",
            "Epoch 499/2: Training loss = 0.9999995231628418\n",
            "torch.Size([1, 3, 32, 32])\n",
            "Epoch 500/2: Training loss = 0.9999995231628418\n",
            "torch.Size([1, 3, 32, 32])\n",
            "Epoch 501/2: Training loss = 0.9999995231628418\n",
            "torch.Size([1, 3, 32, 32])\n",
            "Epoch 502/2: Training loss = 0.9999995231628418\n",
            "torch.Size([1, 3, 32, 32])\n",
            "Epoch 503/2: Training loss = 0.9999995231628418\n",
            "torch.Size([1, 3, 32, 32])\n",
            "Epoch 504/2: Training loss = 0.9999995231628418\n",
            "torch.Size([1, 3, 32, 32])\n",
            "Epoch 505/2: Training loss = 0.9999995231628418\n",
            "torch.Size([1, 3, 32, 32])\n",
            "Epoch 506/2: Training loss = 0.9999995231628418\n",
            "torch.Size([1, 3, 32, 32])\n",
            "Epoch 507/2: Training loss = 0.9999995231628418\n",
            "torch.Size([1, 3, 32, 32])\n",
            "Epoch 508/2: Training loss = 0.9999995231628418\n",
            "torch.Size([1, 3, 32, 32])\n",
            "Epoch 509/2: Training loss = 0.9999995231628418\n",
            "torch.Size([1, 3, 32, 32])\n",
            "Epoch 510/2: Training loss = 0.9999995231628418\n",
            "torch.Size([1, 3, 32, 32])\n",
            "Epoch 511/2: Training loss = 0.9999995231628418\n",
            "torch.Size([1, 3, 32, 32])\n",
            "Epoch 512/2: Training loss = 0.9999995231628418\n",
            "torch.Size([1, 3, 32, 32])\n",
            "Epoch 513/2: Training loss = 0.9999995231628418\n",
            "torch.Size([1, 3, 32, 32])\n",
            "Epoch 514/2: Training loss = 0.9999995231628418\n",
            "torch.Size([1, 3, 32, 32])\n",
            "Epoch 515/2: Training loss = 0.9999995231628418\n",
            "torch.Size([1, 3, 32, 32])\n",
            "Epoch 516/2: Training loss = 0.9999995231628418\n",
            "torch.Size([1, 3, 32, 32])\n",
            "Epoch 517/2: Training loss = 0.9999995231628418\n",
            "torch.Size([1, 3, 32, 32])\n",
            "Epoch 518/2: Training loss = 0.9999995231628418\n",
            "torch.Size([1, 3, 32, 32])\n",
            "Epoch 519/2: Training loss = 0.9999995231628418\n",
            "torch.Size([1, 3, 32, 32])\n",
            "Epoch 520/2: Training loss = 0.9999995231628418\n",
            "torch.Size([1, 3, 32, 32])\n",
            "Epoch 521/2: Training loss = 0.9999995231628418\n",
            "torch.Size([1, 3, 32, 32])\n",
            "Epoch 522/2: Training loss = 0.9999995231628418\n",
            "torch.Size([1, 3, 32, 32])\n",
            "Epoch 523/2: Training loss = 0.9999995231628418\n",
            "torch.Size([1, 3, 32, 32])\n",
            "Epoch 524/2: Training loss = 0.9999995231628418\n",
            "torch.Size([1, 3, 32, 32])\n",
            "Epoch 525/2: Training loss = 0.9999995231628418\n",
            "torch.Size([1, 3, 32, 32])\n",
            "Epoch 526/2: Training loss = 0.9999995231628418\n",
            "torch.Size([1, 3, 32, 32])\n",
            "Epoch 527/2: Training loss = 0.9999995231628418\n",
            "torch.Size([1, 3, 32, 32])\n",
            "Epoch 528/2: Training loss = 0.9999995231628418\n",
            "torch.Size([1, 3, 32, 32])\n",
            "Epoch 529/2: Training loss = 0.9999995231628418\n",
            "torch.Size([1, 3, 32, 32])\n",
            "Epoch 530/2: Training loss = 0.9999995231628418\n",
            "torch.Size([1, 3, 32, 32])\n",
            "Epoch 531/2: Training loss = 0.9999995231628418\n",
            "torch.Size([1, 3, 32, 32])\n",
            "Epoch 532/2: Training loss = 0.9999995231628418\n",
            "torch.Size([1, 3, 32, 32])\n",
            "Epoch 533/2: Training loss = 0.9999995231628418\n",
            "torch.Size([1, 3, 32, 32])\n",
            "Epoch 534/2: Training loss = 0.9999995231628418\n",
            "torch.Size([1, 3, 32, 32])\n",
            "Epoch 535/2: Training loss = 0.9999995231628418\n",
            "torch.Size([1, 3, 32, 32])\n",
            "Epoch 536/2: Training loss = 0.9999995231628418\n",
            "torch.Size([1, 3, 32, 32])\n",
            "Epoch 537/2: Training loss = 0.9999995231628418\n",
            "torch.Size([1, 3, 32, 32])\n",
            "Epoch 538/2: Training loss = 0.9999995231628418\n",
            "torch.Size([1, 3, 32, 32])\n",
            "Epoch 539/2: Training loss = 0.9999995231628418\n",
            "torch.Size([1, 3, 32, 32])\n",
            "Epoch 540/2: Training loss = 0.9999995231628418\n",
            "torch.Size([1, 3, 32, 32])\n",
            "Epoch 541/2: Training loss = 0.9999995231628418\n",
            "torch.Size([1, 3, 32, 32])\n",
            "Epoch 542/2: Training loss = 0.9999995231628418\n",
            "torch.Size([1, 3, 32, 32])\n",
            "Epoch 543/2: Training loss = 0.9999995231628418\n",
            "torch.Size([1, 3, 32, 32])\n",
            "Epoch 544/2: Training loss = 0.9999995231628418\n",
            "torch.Size([1, 3, 32, 32])\n",
            "Epoch 545/2: Training loss = 0.9999995231628418\n",
            "torch.Size([1, 3, 32, 32])\n",
            "Epoch 546/2: Training loss = 0.9999995231628418\n",
            "torch.Size([1, 3, 32, 32])\n",
            "Epoch 547/2: Training loss = 0.9999995231628418\n",
            "torch.Size([1, 3, 32, 32])\n",
            "Epoch 548/2: Training loss = 0.9999995231628418\n",
            "torch.Size([1, 3, 32, 32])\n",
            "Epoch 549/2: Training loss = 0.9999995231628418\n",
            "torch.Size([1, 3, 32, 32])\n",
            "Epoch 550/2: Training loss = 0.9999995231628418\n",
            "torch.Size([1, 3, 32, 32])\n",
            "Epoch 551/2: Training loss = 0.9999995231628418\n",
            "torch.Size([1, 3, 32, 32])\n",
            "Epoch 552/2: Training loss = 0.9999995231628418\n",
            "torch.Size([1, 3, 32, 32])\n",
            "Epoch 553/2: Training loss = 0.9999995231628418\n",
            "torch.Size([1, 3, 32, 32])\n",
            "Epoch 554/2: Training loss = 0.9999995231628418\n",
            "torch.Size([1, 3, 32, 32])\n",
            "Epoch 555/2: Training loss = 0.9999995231628418\n",
            "torch.Size([1, 3, 32, 32])\n",
            "Epoch 556/2: Training loss = 0.9999995231628418\n",
            "torch.Size([1, 3, 32, 32])\n",
            "Epoch 557/2: Training loss = 0.9999995231628418\n",
            "torch.Size([1, 3, 32, 32])\n",
            "Epoch 558/2: Training loss = 0.9999995231628418\n",
            "torch.Size([1, 3, 32, 32])\n",
            "Epoch 559/2: Training loss = 0.9999995231628418\n",
            "torch.Size([1, 3, 32, 32])\n",
            "Epoch 560/2: Training loss = 0.9999995231628418\n",
            "torch.Size([1, 3, 32, 32])\n",
            "Epoch 561/2: Training loss = 0.9999995231628418\n",
            "torch.Size([1, 3, 32, 32])\n",
            "Epoch 562/2: Training loss = 0.9999995231628418\n",
            "torch.Size([1, 3, 32, 32])\n",
            "Epoch 563/2: Training loss = 0.9999995231628418\n",
            "torch.Size([1, 3, 32, 32])\n",
            "Epoch 564/2: Training loss = 0.9999995231628418\n",
            "torch.Size([1, 3, 32, 32])\n",
            "Epoch 565/2: Training loss = 0.9999995231628418\n",
            "torch.Size([1, 3, 32, 32])\n",
            "Epoch 566/2: Training loss = 0.9999995231628418\n",
            "torch.Size([1, 3, 32, 32])\n",
            "Epoch 567/2: Training loss = 0.9999995231628418\n",
            "torch.Size([1, 3, 32, 32])\n",
            "Epoch 568/2: Training loss = 0.9999995231628418\n",
            "torch.Size([1, 3, 32, 32])\n",
            "Epoch 569/2: Training loss = 0.9999995231628418\n",
            "torch.Size([1, 3, 32, 32])\n",
            "Epoch 570/2: Training loss = 0.9999995231628418\n",
            "torch.Size([1, 3, 32, 32])\n",
            "Epoch 571/2: Training loss = 0.9999995231628418\n",
            "torch.Size([1, 3, 32, 32])\n",
            "Epoch 572/2: Training loss = 0.9999995231628418\n",
            "torch.Size([1, 3, 32, 32])\n",
            "Epoch 573/2: Training loss = 0.9999995231628418\n",
            "torch.Size([1, 3, 32, 32])\n",
            "Epoch 574/2: Training loss = 0.9999995231628418\n",
            "torch.Size([1, 3, 32, 32])\n",
            "Epoch 575/2: Training loss = 0.9999995231628418\n",
            "torch.Size([1, 3, 32, 32])\n",
            "Epoch 576/2: Training loss = 0.9999995231628418\n",
            "torch.Size([1, 3, 32, 32])\n",
            "Epoch 577/2: Training loss = 0.9999995231628418\n",
            "torch.Size([1, 3, 32, 32])\n",
            "Epoch 578/2: Training loss = 0.9999995231628418\n",
            "torch.Size([1, 3, 32, 32])\n",
            "Epoch 579/2: Training loss = 0.9999995231628418\n",
            "torch.Size([1, 3, 32, 32])\n",
            "Epoch 580/2: Training loss = 0.9999995231628418\n",
            "torch.Size([1, 3, 32, 32])\n",
            "Epoch 581/2: Training loss = 0.9999995231628418\n",
            "torch.Size([1, 3, 32, 32])\n",
            "Epoch 582/2: Training loss = 0.9999995231628418\n",
            "torch.Size([1, 3, 32, 32])\n",
            "Epoch 583/2: Training loss = 0.9999995231628418\n",
            "torch.Size([1, 3, 32, 32])\n",
            "Epoch 584/2: Training loss = 0.9999995231628418\n",
            "torch.Size([1, 3, 32, 32])\n",
            "Epoch 585/2: Training loss = 0.9999995231628418\n",
            "torch.Size([1, 3, 32, 32])\n",
            "Epoch 586/2: Training loss = 0.9999995231628418\n",
            "torch.Size([1, 3, 32, 32])\n",
            "Epoch 587/2: Training loss = 0.9999995231628418\n",
            "torch.Size([1, 3, 32, 32])\n",
            "Epoch 588/2: Training loss = 0.9999995231628418\n",
            "torch.Size([1, 3, 32, 32])\n",
            "Epoch 589/2: Training loss = 0.9999995231628418\n",
            "torch.Size([1, 3, 32, 32])\n",
            "Epoch 590/2: Training loss = 0.9999995231628418\n",
            "torch.Size([1, 3, 32, 32])\n",
            "Epoch 591/2: Training loss = 0.9999995231628418\n",
            "torch.Size([1, 3, 32, 32])\n",
            "Epoch 592/2: Training loss = 0.9999995231628418\n",
            "torch.Size([1, 3, 32, 32])\n",
            "Epoch 593/2: Training loss = 0.9999995231628418\n",
            "torch.Size([1, 3, 32, 32])\n",
            "Epoch 594/2: Training loss = 0.9999995231628418\n",
            "torch.Size([1, 3, 32, 32])\n",
            "Epoch 595/2: Training loss = 0.9999995231628418\n",
            "torch.Size([1, 3, 32, 32])\n",
            "Epoch 596/2: Training loss = 0.9999995231628418\n",
            "torch.Size([1, 3, 32, 32])\n",
            "Epoch 597/2: Training loss = 0.9999995231628418\n",
            "torch.Size([1, 3, 32, 32])\n",
            "Epoch 598/2: Training loss = 0.9999995231628418\n",
            "torch.Size([1, 3, 32, 32])\n",
            "Epoch 599/2: Training loss = 0.9999995231628418\n",
            "torch.Size([1, 3, 32, 32])\n",
            "Epoch 600/2: Training loss = 0.9999995231628418\n",
            "torch.Size([1, 3, 32, 32])\n",
            "Epoch 601/2: Training loss = 0.9999995231628418\n",
            "torch.Size([1, 3, 32, 32])\n",
            "Epoch 602/2: Training loss = 0.9999995231628418\n",
            "torch.Size([1, 3, 32, 32])\n",
            "Epoch 603/2: Training loss = 0.9999995231628418\n",
            "torch.Size([1, 3, 32, 32])\n",
            "Epoch 604/2: Training loss = 0.9999995231628418\n",
            "torch.Size([1, 3, 32, 32])\n",
            "Epoch 605/2: Training loss = 0.9999995231628418\n",
            "torch.Size([1, 3, 32, 32])\n",
            "Epoch 606/2: Training loss = 0.9999995231628418\n",
            "torch.Size([1, 3, 32, 32])\n",
            "Epoch 607/2: Training loss = 0.9999995231628418\n",
            "torch.Size([1, 3, 32, 32])\n",
            "Epoch 608/2: Training loss = 0.9999995231628418\n",
            "torch.Size([1, 3, 32, 32])\n",
            "Epoch 609/2: Training loss = 0.9999995231628418\n",
            "torch.Size([1, 3, 32, 32])\n",
            "Epoch 610/2: Training loss = 0.9999995231628418\n",
            "torch.Size([1, 3, 32, 32])\n",
            "Epoch 611/2: Training loss = 0.9999995231628418\n",
            "torch.Size([1, 3, 32, 32])\n",
            "Epoch 612/2: Training loss = 0.9999995231628418\n",
            "torch.Size([1, 3, 32, 32])\n",
            "Epoch 613/2: Training loss = 0.9999995231628418\n",
            "torch.Size([1, 3, 32, 32])\n",
            "Epoch 614/2: Training loss = 0.9999995231628418\n",
            "torch.Size([1, 3, 32, 32])\n",
            "Epoch 615/2: Training loss = 0.9999995231628418\n",
            "torch.Size([1, 3, 32, 32])\n",
            "Epoch 616/2: Training loss = 0.9999995231628418\n",
            "torch.Size([1, 3, 32, 32])\n",
            "Epoch 617/2: Training loss = 0.9999995231628418\n",
            "torch.Size([1, 3, 32, 32])\n",
            "Epoch 618/2: Training loss = 0.9999995231628418\n",
            "torch.Size([1, 3, 32, 32])\n",
            "Epoch 619/2: Training loss = 0.9999995231628418\n",
            "torch.Size([1, 3, 32, 32])\n",
            "Epoch 620/2: Training loss = 0.9999995231628418\n",
            "torch.Size([1, 3, 32, 32])\n",
            "Epoch 621/2: Training loss = 0.9999995231628418\n",
            "torch.Size([1, 3, 32, 32])\n",
            "Epoch 622/2: Training loss = 0.9999995231628418\n",
            "torch.Size([1, 3, 32, 32])\n",
            "Epoch 623/2: Training loss = 0.9999995231628418\n",
            "torch.Size([1, 3, 32, 32])\n",
            "Epoch 624/2: Training loss = 0.9999995231628418\n",
            "torch.Size([1, 3, 32, 32])\n",
            "Epoch 625/2: Training loss = 0.9999995231628418\n",
            "torch.Size([1, 3, 32, 32])\n",
            "Epoch 626/2: Training loss = 0.9999995231628418\n",
            "torch.Size([1, 3, 32, 32])\n",
            "Epoch 627/2: Training loss = 0.9999995231628418\n",
            "torch.Size([1, 3, 32, 32])\n",
            "Epoch 628/2: Training loss = 0.9999995231628418\n",
            "torch.Size([1, 3, 32, 32])\n",
            "Epoch 629/2: Training loss = 0.9999995231628418\n",
            "torch.Size([1, 3, 32, 32])\n",
            "Epoch 630/2: Training loss = 0.9999995231628418\n",
            "torch.Size([1, 3, 32, 32])\n",
            "Epoch 631/2: Training loss = 0.9999995231628418\n",
            "torch.Size([1, 3, 32, 32])\n",
            "Epoch 632/2: Training loss = 0.9999995231628418\n",
            "torch.Size([1, 3, 32, 32])\n",
            "Epoch 633/2: Training loss = 0.9999995231628418\n",
            "torch.Size([1, 3, 32, 32])\n",
            "Epoch 634/2: Training loss = 0.9999995231628418\n",
            "torch.Size([1, 3, 32, 32])\n",
            "Epoch 635/2: Training loss = 0.9999995231628418\n",
            "torch.Size([1, 3, 32, 32])\n",
            "Epoch 636/2: Training loss = 0.9999995231628418\n",
            "torch.Size([1, 3, 32, 32])\n",
            "Epoch 637/2: Training loss = 0.9999995231628418\n",
            "torch.Size([1, 3, 32, 32])\n",
            "Epoch 638/2: Training loss = 0.9999995231628418\n",
            "torch.Size([1, 3, 32, 32])\n",
            "Epoch 639/2: Training loss = 0.9999995231628418\n",
            "torch.Size([1, 3, 32, 32])\n",
            "Epoch 640/2: Training loss = 0.9999995231628418\n",
            "torch.Size([1, 3, 32, 32])\n",
            "Epoch 641/2: Training loss = 0.9999995231628418\n",
            "torch.Size([1, 3, 32, 32])\n",
            "Epoch 642/2: Training loss = 0.9999995231628418\n",
            "torch.Size([1, 3, 32, 32])\n",
            "Epoch 643/2: Training loss = 0.9999995231628418\n",
            "torch.Size([1, 3, 32, 32])\n",
            "Epoch 644/2: Training loss = 0.9999995231628418\n",
            "torch.Size([1, 3, 32, 32])\n",
            "Epoch 645/2: Training loss = 0.9999995231628418\n",
            "torch.Size([1, 3, 32, 32])\n",
            "Epoch 646/2: Training loss = 0.9999995231628418\n",
            "torch.Size([1, 3, 32, 32])\n",
            "Epoch 647/2: Training loss = 0.9999995231628418\n",
            "torch.Size([1, 3, 32, 32])\n",
            "Epoch 648/2: Training loss = 0.9999995231628418\n",
            "torch.Size([1, 3, 32, 32])\n",
            "Epoch 649/2: Training loss = 0.9999995231628418\n",
            "torch.Size([1, 3, 32, 32])\n",
            "Epoch 650/2: Training loss = 0.9999995231628418\n",
            "torch.Size([1, 3, 32, 32])\n",
            "Epoch 651/2: Training loss = 0.9999995231628418\n",
            "torch.Size([1, 3, 32, 32])\n",
            "Epoch 652/2: Training loss = 0.9999995231628418\n",
            "torch.Size([1, 3, 32, 32])\n",
            "Epoch 653/2: Training loss = 0.9999995231628418\n",
            "torch.Size([1, 3, 32, 32])\n",
            "Epoch 654/2: Training loss = 0.9999995231628418\n",
            "torch.Size([1, 3, 32, 32])\n",
            "Epoch 655/2: Training loss = 0.9999995231628418\n",
            "torch.Size([1, 3, 32, 32])\n",
            "Epoch 656/2: Training loss = 0.9999995231628418\n",
            "torch.Size([1, 3, 32, 32])\n",
            "Epoch 657/2: Training loss = 0.9999995231628418\n",
            "torch.Size([1, 3, 32, 32])\n",
            "Epoch 658/2: Training loss = 0.9999995231628418\n",
            "torch.Size([1, 3, 32, 32])\n",
            "Epoch 659/2: Training loss = 0.9999995231628418\n",
            "torch.Size([1, 3, 32, 32])\n",
            "Epoch 660/2: Training loss = 0.9999995231628418\n",
            "torch.Size([1, 3, 32, 32])\n",
            "Epoch 661/2: Training loss = 0.9999995231628418\n",
            "torch.Size([1, 3, 32, 32])\n",
            "Epoch 662/2: Training loss = 0.9999995231628418\n",
            "torch.Size([1, 3, 32, 32])\n",
            "Epoch 663/2: Training loss = 0.9999995231628418\n",
            "torch.Size([1, 3, 32, 32])\n",
            "Epoch 664/2: Training loss = 0.9999995231628418\n",
            "torch.Size([1, 3, 32, 32])\n",
            "Epoch 665/2: Training loss = 0.9999995231628418\n",
            "torch.Size([1, 3, 32, 32])\n",
            "Epoch 666/2: Training loss = 0.9999995231628418\n",
            "torch.Size([1, 3, 32, 32])\n",
            "Epoch 667/2: Training loss = 0.9999995231628418\n",
            "torch.Size([1, 3, 32, 32])\n",
            "Epoch 668/2: Training loss = 0.9999995231628418\n",
            "torch.Size([1, 3, 32, 32])\n",
            "Epoch 669/2: Training loss = 0.9999995231628418\n",
            "torch.Size([1, 3, 32, 32])\n",
            "Epoch 670/2: Training loss = 0.9999995231628418\n",
            "torch.Size([1, 3, 32, 32])\n",
            "Epoch 671/2: Training loss = 0.9999995231628418\n",
            "torch.Size([1, 3, 32, 32])\n",
            "Epoch 672/2: Training loss = 0.9999995231628418\n",
            "torch.Size([1, 3, 32, 32])\n",
            "Epoch 673/2: Training loss = 0.9999995231628418\n",
            "torch.Size([1, 3, 32, 32])\n",
            "Epoch 674/2: Training loss = 0.9999995231628418\n",
            "torch.Size([1, 3, 32, 32])\n",
            "Epoch 675/2: Training loss = 0.9999995231628418\n",
            "torch.Size([1, 3, 32, 32])\n",
            "Epoch 676/2: Training loss = 0.9999995231628418\n",
            "torch.Size([1, 3, 32, 32])\n",
            "Epoch 677/2: Training loss = 0.9999995231628418\n",
            "torch.Size([1, 3, 32, 32])\n",
            "Epoch 678/2: Training loss = 0.9999995231628418\n",
            "torch.Size([1, 3, 32, 32])\n",
            "Epoch 679/2: Training loss = 0.9999995231628418\n",
            "torch.Size([1, 3, 32, 32])\n",
            "Epoch 680/2: Training loss = 0.9999995231628418\n",
            "torch.Size([1, 3, 32, 32])\n",
            "Epoch 681/2: Training loss = 0.9999995231628418\n",
            "torch.Size([1, 3, 32, 32])\n",
            "Epoch 682/2: Training loss = 0.9999995231628418\n",
            "torch.Size([1, 3, 32, 32])\n",
            "Epoch 683/2: Training loss = 0.9999995231628418\n",
            "torch.Size([1, 3, 32, 32])\n",
            "Epoch 684/2: Training loss = 0.9999995231628418\n",
            "torch.Size([1, 3, 32, 32])\n",
            "Epoch 685/2: Training loss = 0.9999995231628418\n",
            "torch.Size([1, 3, 32, 32])\n",
            "Epoch 686/2: Training loss = 0.9999995231628418\n",
            "torch.Size([1, 3, 32, 32])\n",
            "Epoch 687/2: Training loss = 0.9999995231628418\n",
            "torch.Size([1, 3, 32, 32])\n",
            "Epoch 688/2: Training loss = 0.9999995231628418\n",
            "torch.Size([1, 3, 32, 32])\n",
            "Epoch 689/2: Training loss = 0.9999995231628418\n",
            "torch.Size([1, 3, 32, 32])\n",
            "Epoch 690/2: Training loss = 0.9999995231628418\n",
            "torch.Size([1, 3, 32, 32])\n",
            "Epoch 691/2: Training loss = 0.9999995231628418\n",
            "torch.Size([1, 3, 32, 32])\n",
            "Epoch 692/2: Training loss = 0.9999995231628418\n",
            "torch.Size([1, 3, 32, 32])\n",
            "Epoch 693/2: Training loss = 0.9999995231628418\n",
            "torch.Size([1, 3, 32, 32])\n",
            "Epoch 694/2: Training loss = 0.9999995231628418\n",
            "torch.Size([1, 3, 32, 32])\n",
            "Epoch 695/2: Training loss = 0.9999995231628418\n",
            "torch.Size([1, 3, 32, 32])\n",
            "Epoch 696/2: Training loss = 0.9999995231628418\n",
            "torch.Size([1, 3, 32, 32])\n",
            "Epoch 697/2: Training loss = 0.9999995231628418\n",
            "torch.Size([1, 3, 32, 32])\n",
            "Epoch 698/2: Training loss = 0.9999995231628418\n",
            "torch.Size([1, 3, 32, 32])\n",
            "Epoch 699/2: Training loss = 0.9999995231628418\n",
            "torch.Size([1, 3, 32, 32])\n",
            "Epoch 700/2: Training loss = 0.9999995231628418\n",
            "torch.Size([1, 3, 32, 32])\n",
            "Epoch 701/2: Training loss = 0.9999995231628418\n",
            "torch.Size([1, 3, 32, 32])\n",
            "Epoch 702/2: Training loss = 0.9999995231628418\n",
            "torch.Size([1, 3, 32, 32])\n",
            "Epoch 703/2: Training loss = 0.9999995231628418\n",
            "torch.Size([1, 3, 32, 32])\n",
            "Epoch 704/2: Training loss = 0.9999995231628418\n",
            "torch.Size([1, 3, 32, 32])\n",
            "Epoch 705/2: Training loss = 0.9999995231628418\n",
            "torch.Size([1, 3, 32, 32])\n",
            "Epoch 706/2: Training loss = 0.9999995231628418\n",
            "torch.Size([1, 3, 32, 32])\n",
            "Epoch 707/2: Training loss = 0.9999995231628418\n",
            "torch.Size([1, 3, 32, 32])\n",
            "Epoch 708/2: Training loss = 0.9999995231628418\n",
            "torch.Size([1, 3, 32, 32])\n",
            "Epoch 709/2: Training loss = 0.9999995231628418\n",
            "torch.Size([1, 3, 32, 32])\n",
            "Epoch 710/2: Training loss = 0.9999995231628418\n",
            "torch.Size([1, 3, 32, 32])\n",
            "Epoch 711/2: Training loss = 0.9999995231628418\n",
            "torch.Size([1, 3, 32, 32])\n",
            "Epoch 712/2: Training loss = 0.9999995231628418\n",
            "torch.Size([1, 3, 32, 32])\n",
            "Epoch 713/2: Training loss = 0.9999995231628418\n",
            "torch.Size([1, 3, 32, 32])\n",
            "Epoch 714/2: Training loss = 0.9999995231628418\n",
            "torch.Size([1, 3, 32, 32])\n",
            "Epoch 715/2: Training loss = 0.9999995231628418\n",
            "torch.Size([1, 3, 32, 32])\n",
            "Epoch 716/2: Training loss = 0.9999995231628418\n",
            "torch.Size([1, 3, 32, 32])\n",
            "Epoch 717/2: Training loss = 0.9999995231628418\n",
            "torch.Size([1, 3, 32, 32])\n",
            "Epoch 718/2: Training loss = 0.9999995231628418\n",
            "torch.Size([1, 3, 32, 32])\n",
            "Epoch 719/2: Training loss = 0.9999995231628418\n",
            "torch.Size([1, 3, 32, 32])\n",
            "Epoch 720/2: Training loss = 0.9999995231628418\n",
            "torch.Size([1, 3, 32, 32])\n",
            "Epoch 721/2: Training loss = 0.9999995231628418\n",
            "torch.Size([1, 3, 32, 32])\n",
            "Epoch 722/2: Training loss = 0.9999995231628418\n",
            "torch.Size([1, 3, 32, 32])\n",
            "Epoch 723/2: Training loss = 0.9999995231628418\n",
            "torch.Size([1, 3, 32, 32])\n",
            "Epoch 724/2: Training loss = 0.9999995231628418\n",
            "torch.Size([1, 3, 32, 32])\n",
            "Epoch 725/2: Training loss = 0.9999995231628418\n",
            "torch.Size([1, 3, 32, 32])\n",
            "Epoch 726/2: Training loss = 0.9999995231628418\n",
            "torch.Size([1, 3, 32, 32])\n",
            "Epoch 727/2: Training loss = 0.9999995231628418\n",
            "torch.Size([1, 3, 32, 32])\n",
            "Epoch 728/2: Training loss = 0.9999995231628418\n",
            "torch.Size([1, 3, 32, 32])\n",
            "Epoch 729/2: Training loss = 0.9999995231628418\n",
            "torch.Size([1, 3, 32, 32])\n",
            "Epoch 730/2: Training loss = 0.9999995231628418\n",
            "torch.Size([1, 3, 32, 32])\n",
            "Epoch 731/2: Training loss = 0.9999995231628418\n",
            "torch.Size([1, 3, 32, 32])\n",
            "Epoch 732/2: Training loss = 0.9999995231628418\n",
            "torch.Size([1, 3, 32, 32])\n",
            "Epoch 733/2: Training loss = 0.9999995231628418\n",
            "torch.Size([1, 3, 32, 32])\n",
            "Epoch 734/2: Training loss = 0.9999995231628418\n",
            "torch.Size([1, 3, 32, 32])\n",
            "Epoch 735/2: Training loss = 0.9999995231628418\n",
            "torch.Size([1, 3, 32, 32])\n",
            "Epoch 736/2: Training loss = 0.9999995231628418\n",
            "torch.Size([1, 3, 32, 32])\n",
            "Epoch 737/2: Training loss = 0.9999995231628418\n",
            "torch.Size([1, 3, 32, 32])\n",
            "Epoch 738/2: Training loss = 0.9999995231628418\n",
            "torch.Size([1, 3, 32, 32])\n",
            "Epoch 739/2: Training loss = 0.9999995231628418\n",
            "torch.Size([1, 3, 32, 32])\n",
            "Epoch 740/2: Training loss = 0.9999995231628418\n",
            "torch.Size([1, 3, 32, 32])\n",
            "Epoch 741/2: Training loss = 0.9999995231628418\n",
            "torch.Size([1, 3, 32, 32])\n",
            "Epoch 742/2: Training loss = 0.9999995231628418\n",
            "torch.Size([1, 3, 32, 32])\n",
            "Epoch 743/2: Training loss = 0.9999995231628418\n",
            "torch.Size([1, 3, 32, 32])\n",
            "Epoch 744/2: Training loss = 0.9999995231628418\n",
            "torch.Size([1, 3, 32, 32])\n",
            "Epoch 745/2: Training loss = 0.9999995231628418\n",
            "torch.Size([1, 3, 32, 32])\n",
            "Epoch 746/2: Training loss = 0.9999995231628418\n",
            "torch.Size([1, 3, 32, 32])\n",
            "Epoch 747/2: Training loss = 0.9999995231628418\n",
            "torch.Size([1, 3, 32, 32])\n",
            "Epoch 748/2: Training loss = 0.9999995231628418\n",
            "torch.Size([1, 3, 32, 32])\n",
            "Epoch 749/2: Training loss = 0.9999995231628418\n",
            "torch.Size([1, 3, 32, 32])\n",
            "Epoch 750/2: Training loss = 0.9999995231628418\n",
            "torch.Size([1, 3, 32, 32])\n",
            "Epoch 751/2: Training loss = 0.9999995231628418\n",
            "torch.Size([1, 3, 32, 32])\n",
            "Epoch 752/2: Training loss = 0.9999995231628418\n",
            "torch.Size([1, 3, 32, 32])\n",
            "Epoch 753/2: Training loss = 0.9999995231628418\n",
            "torch.Size([1, 3, 32, 32])\n",
            "Epoch 754/2: Training loss = 0.9999995231628418\n",
            "torch.Size([1, 3, 32, 32])\n",
            "Epoch 755/2: Training loss = 0.9999995231628418\n",
            "torch.Size([1, 3, 32, 32])\n",
            "Epoch 756/2: Training loss = 0.9999995231628418\n",
            "torch.Size([1, 3, 32, 32])\n",
            "Epoch 757/2: Training loss = 0.9999995231628418\n",
            "torch.Size([1, 3, 32, 32])\n",
            "Epoch 758/2: Training loss = 0.9999995231628418\n",
            "torch.Size([1, 3, 32, 32])\n",
            "Epoch 759/2: Training loss = 0.9999995231628418\n",
            "torch.Size([1, 3, 32, 32])\n",
            "Epoch 760/2: Training loss = 0.9999995231628418\n",
            "torch.Size([1, 3, 32, 32])\n",
            "Epoch 761/2: Training loss = 0.9999995231628418\n",
            "torch.Size([1, 3, 32, 32])\n",
            "Epoch 762/2: Training loss = 0.9999995231628418\n",
            "torch.Size([1, 3, 32, 32])\n",
            "Epoch 763/2: Training loss = 0.9999995231628418\n",
            "torch.Size([1, 3, 32, 32])\n",
            "Epoch 764/2: Training loss = 0.9999995231628418\n",
            "torch.Size([1, 3, 32, 32])\n",
            "Epoch 765/2: Training loss = 0.9999995231628418\n",
            "torch.Size([1, 3, 32, 32])\n",
            "Epoch 766/2: Training loss = 0.9999995231628418\n",
            "torch.Size([1, 3, 32, 32])\n",
            "Epoch 767/2: Training loss = 0.9999995231628418\n",
            "torch.Size([1, 3, 32, 32])\n",
            "Epoch 768/2: Training loss = 0.9999995231628418\n",
            "torch.Size([1, 3, 32, 32])\n",
            "Epoch 769/2: Training loss = 0.9999995231628418\n",
            "torch.Size([1, 3, 32, 32])\n",
            "Epoch 770/2: Training loss = 0.9999995231628418\n",
            "torch.Size([1, 3, 32, 32])\n",
            "Epoch 771/2: Training loss = 0.9999995231628418\n",
            "torch.Size([1, 3, 32, 32])\n",
            "Epoch 772/2: Training loss = 0.9999995231628418\n",
            "torch.Size([1, 3, 32, 32])\n",
            "Epoch 773/2: Training loss = 0.9999995231628418\n",
            "torch.Size([1, 3, 32, 32])\n",
            "Epoch 774/2: Training loss = 0.9999995231628418\n",
            "torch.Size([1, 3, 32, 32])\n",
            "Epoch 775/2: Training loss = 0.9999995231628418\n",
            "torch.Size([1, 3, 32, 32])\n",
            "Epoch 776/2: Training loss = 0.9999995231628418\n",
            "torch.Size([1, 3, 32, 32])\n",
            "Epoch 777/2: Training loss = 0.9999995231628418\n",
            "torch.Size([1, 3, 32, 32])\n",
            "Epoch 778/2: Training loss = 0.9999995231628418\n",
            "torch.Size([1, 3, 32, 32])\n",
            "Epoch 779/2: Training loss = 0.9999995231628418\n",
            "torch.Size([1, 3, 32, 32])\n",
            "Epoch 780/2: Training loss = 0.9999995231628418\n",
            "torch.Size([1, 3, 32, 32])\n",
            "Epoch 781/2: Training loss = 0.9999995231628418\n",
            "torch.Size([1, 3, 32, 32])\n",
            "Epoch 782/2: Training loss = 0.9999995231628418\n",
            "torch.Size([1, 3, 32, 32])\n",
            "Epoch 783/2: Training loss = 0.9999995231628418\n",
            "torch.Size([1, 3, 32, 32])\n",
            "Epoch 784/2: Training loss = 0.9999995231628418\n",
            "torch.Size([1, 3, 32, 32])\n",
            "Epoch 785/2: Training loss = 0.9999995231628418\n",
            "torch.Size([1, 3, 32, 32])\n",
            "Epoch 786/2: Training loss = 0.9999995231628418\n",
            "torch.Size([1, 3, 32, 32])\n",
            "Epoch 787/2: Training loss = 0.9999995231628418\n",
            "torch.Size([1, 3, 32, 32])\n",
            "Epoch 788/2: Training loss = 0.9999995231628418\n",
            "torch.Size([1, 3, 32, 32])\n",
            "Epoch 789/2: Training loss = 0.9999995231628418\n",
            "torch.Size([1, 3, 32, 32])\n",
            "Epoch 790/2: Training loss = 0.9999995231628418\n",
            "torch.Size([1, 3, 32, 32])\n",
            "Epoch 791/2: Training loss = 0.9999995231628418\n",
            "torch.Size([1, 3, 32, 32])\n",
            "Epoch 792/2: Training loss = 0.9999995231628418\n",
            "torch.Size([1, 3, 32, 32])\n",
            "Epoch 793/2: Training loss = 0.9999995231628418\n",
            "torch.Size([1, 3, 32, 32])\n",
            "Epoch 794/2: Training loss = 0.9999995231628418\n",
            "torch.Size([1, 3, 32, 32])\n",
            "Epoch 795/2: Training loss = 0.9999995231628418\n",
            "torch.Size([1, 3, 32, 32])\n",
            "Epoch 796/2: Training loss = 0.9999995231628418\n",
            "torch.Size([1, 3, 32, 32])\n",
            "Epoch 797/2: Training loss = 0.9999995231628418\n",
            "torch.Size([1, 3, 32, 32])\n",
            "Epoch 798/2: Training loss = 0.9999995231628418\n",
            "torch.Size([1, 3, 32, 32])\n",
            "Epoch 799/2: Training loss = 0.9999995231628418\n",
            "torch.Size([1, 3, 32, 32])\n",
            "Epoch 800/2: Training loss = 0.9999995231628418\n",
            "torch.Size([1, 3, 32, 32])\n",
            "Epoch 801/2: Training loss = 0.9999995231628418\n",
            "torch.Size([1, 3, 32, 32])\n",
            "Epoch 802/2: Training loss = 0.9999995231628418\n",
            "torch.Size([1, 3, 32, 32])\n",
            "Epoch 803/2: Training loss = 0.9999995231628418\n",
            "torch.Size([1, 3, 32, 32])\n",
            "Epoch 804/2: Training loss = 0.9999995231628418\n",
            "torch.Size([1, 3, 32, 32])\n",
            "Epoch 805/2: Training loss = 0.9999995231628418\n",
            "torch.Size([1, 3, 32, 32])\n",
            "Epoch 806/2: Training loss = 0.9999995231628418\n",
            "torch.Size([1, 3, 32, 32])\n",
            "Epoch 807/2: Training loss = 0.9999995231628418\n",
            "torch.Size([1, 3, 32, 32])\n",
            "Epoch 808/2: Training loss = 0.9999995231628418\n",
            "torch.Size([1, 3, 32, 32])\n",
            "Epoch 809/2: Training loss = 0.9999995231628418\n",
            "torch.Size([1, 3, 32, 32])\n",
            "Epoch 810/2: Training loss = 0.9999995231628418\n",
            "torch.Size([1, 3, 32, 32])\n",
            "Epoch 811/2: Training loss = 0.9999995231628418\n",
            "torch.Size([1, 3, 32, 32])\n",
            "Epoch 812/2: Training loss = 0.9999995231628418\n",
            "torch.Size([1, 3, 32, 32])\n",
            "Epoch 813/2: Training loss = 0.9999995231628418\n",
            "torch.Size([1, 3, 32, 32])\n",
            "Epoch 814/2: Training loss = 0.9999995231628418\n",
            "torch.Size([1, 3, 32, 32])\n",
            "Epoch 815/2: Training loss = 0.9999995231628418\n",
            "torch.Size([1, 3, 32, 32])\n",
            "Epoch 816/2: Training loss = 0.9999995231628418\n",
            "torch.Size([1, 3, 32, 32])\n",
            "Epoch 817/2: Training loss = 0.9999995231628418\n",
            "torch.Size([1, 3, 32, 32])\n",
            "Epoch 818/2: Training loss = 0.9999995231628418\n",
            "torch.Size([1, 3, 32, 32])\n",
            "Epoch 819/2: Training loss = 0.9999995231628418\n",
            "torch.Size([1, 3, 32, 32])\n",
            "Epoch 820/2: Training loss = 0.9999995231628418\n",
            "torch.Size([1, 3, 32, 32])\n",
            "Epoch 821/2: Training loss = 0.9999995231628418\n",
            "torch.Size([1, 3, 32, 32])\n",
            "Epoch 822/2: Training loss = 0.9999995231628418\n",
            "torch.Size([1, 3, 32, 32])\n",
            "Epoch 823/2: Training loss = 0.9999995231628418\n",
            "torch.Size([1, 3, 32, 32])\n",
            "Epoch 824/2: Training loss = 0.9999995231628418\n",
            "torch.Size([1, 3, 32, 32])\n",
            "Epoch 825/2: Training loss = 0.9999995231628418\n",
            "torch.Size([1, 3, 32, 32])\n",
            "Epoch 826/2: Training loss = 0.9999995231628418\n",
            "torch.Size([1, 3, 32, 32])\n",
            "Epoch 827/2: Training loss = 0.9999995231628418\n",
            "torch.Size([1, 3, 32, 32])\n",
            "Epoch 828/2: Training loss = 0.9999995231628418\n",
            "torch.Size([1, 3, 32, 32])\n",
            "Epoch 829/2: Training loss = 0.9999995231628418\n",
            "torch.Size([1, 3, 32, 32])\n",
            "Epoch 830/2: Training loss = 0.9999995231628418\n",
            "torch.Size([1, 3, 32, 32])\n",
            "Epoch 831/2: Training loss = 0.9999995231628418\n",
            "torch.Size([1, 3, 32, 32])\n",
            "Epoch 832/2: Training loss = 0.9999995231628418\n",
            "torch.Size([1, 3, 32, 32])\n",
            "Epoch 833/2: Training loss = 0.9999995231628418\n",
            "torch.Size([1, 3, 32, 32])\n",
            "Epoch 834/2: Training loss = 0.9999995231628418\n",
            "torch.Size([1, 3, 32, 32])\n",
            "Epoch 835/2: Training loss = 0.9999995231628418\n",
            "torch.Size([1, 3, 32, 32])\n",
            "Epoch 836/2: Training loss = 0.9999995231628418\n",
            "torch.Size([1, 3, 32, 32])\n",
            "Epoch 837/2: Training loss = 0.9999995231628418\n",
            "torch.Size([1, 3, 32, 32])\n",
            "Epoch 838/2: Training loss = 0.9999995231628418\n",
            "torch.Size([1, 3, 32, 32])\n",
            "Epoch 839/2: Training loss = 0.9999995231628418\n",
            "torch.Size([1, 3, 32, 32])\n",
            "Epoch 840/2: Training loss = 0.9999995231628418\n",
            "torch.Size([1, 3, 32, 32])\n",
            "Epoch 841/2: Training loss = 0.9999995231628418\n",
            "torch.Size([1, 3, 32, 32])\n",
            "Epoch 842/2: Training loss = 0.9999995231628418\n",
            "torch.Size([1, 3, 32, 32])\n",
            "Epoch 843/2: Training loss = 0.9999995231628418\n",
            "torch.Size([1, 3, 32, 32])\n",
            "Epoch 844/2: Training loss = 0.9999995231628418\n",
            "torch.Size([1, 3, 32, 32])\n",
            "Epoch 845/2: Training loss = 0.9999995231628418\n",
            "torch.Size([1, 3, 32, 32])\n",
            "Epoch 846/2: Training loss = 0.9999995231628418\n",
            "torch.Size([1, 3, 32, 32])\n",
            "Epoch 847/2: Training loss = 0.9999995231628418\n",
            "torch.Size([1, 3, 32, 32])\n",
            "Epoch 848/2: Training loss = 0.9999995231628418\n",
            "torch.Size([1, 3, 32, 32])\n",
            "Epoch 849/2: Training loss = 0.9999995231628418\n",
            "torch.Size([1, 3, 32, 32])\n",
            "Epoch 850/2: Training loss = 0.9999995231628418\n",
            "torch.Size([1, 3, 32, 32])\n",
            "Epoch 851/2: Training loss = 0.9999995231628418\n",
            "torch.Size([1, 3, 32, 32])\n",
            "Epoch 852/2: Training loss = 0.9999995231628418\n",
            "torch.Size([1, 3, 32, 32])\n",
            "Epoch 853/2: Training loss = 0.9999995231628418\n",
            "torch.Size([1, 3, 32, 32])\n",
            "Epoch 854/2: Training loss = 0.9999995231628418\n",
            "torch.Size([1, 3, 32, 32])\n",
            "Epoch 855/2: Training loss = 0.9999995231628418\n",
            "torch.Size([1, 3, 32, 32])\n",
            "Epoch 856/2: Training loss = 0.9999995231628418\n",
            "torch.Size([1, 3, 32, 32])\n",
            "Epoch 857/2: Training loss = 0.9999995231628418\n",
            "torch.Size([1, 3, 32, 32])\n",
            "Epoch 858/2: Training loss = 0.9999995231628418\n",
            "torch.Size([1, 3, 32, 32])\n",
            "Epoch 859/2: Training loss = 0.9999995231628418\n",
            "torch.Size([1, 3, 32, 32])\n",
            "Epoch 860/2: Training loss = 0.9999995231628418\n",
            "torch.Size([1, 3, 32, 32])\n",
            "Epoch 861/2: Training loss = 0.9999995231628418\n",
            "torch.Size([1, 3, 32, 32])\n",
            "Epoch 862/2: Training loss = 0.9999995231628418\n",
            "torch.Size([1, 3, 32, 32])\n",
            "Epoch 863/2: Training loss = 0.9999995231628418\n",
            "torch.Size([1, 3, 32, 32])\n",
            "Epoch 864/2: Training loss = 0.9999995231628418\n",
            "torch.Size([1, 3, 32, 32])\n",
            "Epoch 865/2: Training loss = 0.9999995231628418\n",
            "torch.Size([1, 3, 32, 32])\n",
            "Epoch 866/2: Training loss = 0.9999995231628418\n",
            "torch.Size([1, 3, 32, 32])\n",
            "Epoch 867/2: Training loss = 0.9999995231628418\n",
            "torch.Size([1, 3, 32, 32])\n",
            "Epoch 868/2: Training loss = 0.9999995231628418\n",
            "torch.Size([1, 3, 32, 32])\n",
            "Epoch 869/2: Training loss = 0.9999995231628418\n",
            "torch.Size([1, 3, 32, 32])\n",
            "Epoch 870/2: Training loss = 0.9999995231628418\n",
            "torch.Size([1, 3, 32, 32])\n",
            "Epoch 871/2: Training loss = 0.9999995231628418\n",
            "torch.Size([1, 3, 32, 32])\n",
            "Epoch 872/2: Training loss = 0.9999995231628418\n",
            "torch.Size([1, 3, 32, 32])\n",
            "Epoch 873/2: Training loss = 0.9999995231628418\n",
            "torch.Size([1, 3, 32, 32])\n",
            "Epoch 874/2: Training loss = 0.9999995231628418\n",
            "torch.Size([1, 3, 32, 32])\n",
            "Epoch 875/2: Training loss = 0.9999995231628418\n",
            "torch.Size([1, 3, 32, 32])\n",
            "Epoch 876/2: Training loss = 0.9999995231628418\n",
            "torch.Size([1, 3, 32, 32])\n",
            "Epoch 877/2: Training loss = 0.9999995231628418\n",
            "torch.Size([1, 3, 32, 32])\n",
            "Epoch 878/2: Training loss = 0.9999995231628418\n",
            "torch.Size([1, 3, 32, 32])\n",
            "Epoch 879/2: Training loss = 0.9999995231628418\n",
            "torch.Size([1, 3, 32, 32])\n",
            "Epoch 880/2: Training loss = 0.9999995231628418\n",
            "torch.Size([1, 3, 32, 32])\n",
            "Epoch 881/2: Training loss = 0.9999995231628418\n",
            "torch.Size([1, 3, 32, 32])\n",
            "Epoch 882/2: Training loss = 0.9999995231628418\n",
            "torch.Size([1, 3, 32, 32])\n",
            "Epoch 883/2: Training loss = 0.9999995231628418\n",
            "torch.Size([1, 3, 32, 32])\n",
            "Epoch 884/2: Training loss = 0.9999995231628418\n",
            "torch.Size([1, 3, 32, 32])\n",
            "Epoch 885/2: Training loss = 0.9999995231628418\n",
            "torch.Size([1, 3, 32, 32])\n",
            "Epoch 886/2: Training loss = 0.9999995231628418\n",
            "torch.Size([1, 3, 32, 32])\n",
            "Epoch 887/2: Training loss = 0.9999995231628418\n",
            "torch.Size([1, 3, 32, 32])\n",
            "Epoch 888/2: Training loss = 0.9999995231628418\n",
            "torch.Size([1, 3, 32, 32])\n",
            "Epoch 889/2: Training loss = 0.9999995231628418\n",
            "torch.Size([1, 3, 32, 32])\n",
            "Epoch 890/2: Training loss = 0.9999995231628418\n",
            "torch.Size([1, 3, 32, 32])\n",
            "Epoch 891/2: Training loss = 0.9999995231628418\n",
            "torch.Size([1, 3, 32, 32])\n",
            "Epoch 892/2: Training loss = 0.9999995231628418\n",
            "torch.Size([1, 3, 32, 32])\n",
            "Epoch 893/2: Training loss = 0.9999995231628418\n",
            "torch.Size([1, 3, 32, 32])\n",
            "Epoch 894/2: Training loss = 0.9999995231628418\n",
            "torch.Size([1, 3, 32, 32])\n",
            "Epoch 895/2: Training loss = 0.9999995231628418\n",
            "torch.Size([1, 3, 32, 32])\n",
            "Epoch 896/2: Training loss = 0.9999995231628418\n",
            "torch.Size([1, 3, 32, 32])\n",
            "Epoch 897/2: Training loss = 0.9999995231628418\n",
            "torch.Size([1, 3, 32, 32])\n",
            "Epoch 898/2: Training loss = 0.9999995231628418\n",
            "torch.Size([1, 3, 32, 32])\n",
            "Epoch 899/2: Training loss = 0.9999995231628418\n",
            "torch.Size([1, 3, 32, 32])\n",
            "Epoch 900/2: Training loss = 0.9999995231628418\n",
            "torch.Size([1, 3, 32, 32])\n",
            "Epoch 901/2: Training loss = 0.9999995231628418\n",
            "torch.Size([1, 3, 32, 32])\n",
            "Epoch 902/2: Training loss = 0.9999995231628418\n",
            "torch.Size([1, 3, 32, 32])\n",
            "Epoch 903/2: Training loss = 0.9999995231628418\n",
            "torch.Size([1, 3, 32, 32])\n",
            "Epoch 904/2: Training loss = 0.9999995231628418\n",
            "torch.Size([1, 3, 32, 32])\n",
            "Epoch 905/2: Training loss = 0.9999995231628418\n",
            "torch.Size([1, 3, 32, 32])\n",
            "Epoch 906/2: Training loss = 0.9999995231628418\n",
            "torch.Size([1, 3, 32, 32])\n",
            "Epoch 907/2: Training loss = 0.9999995231628418\n",
            "torch.Size([1, 3, 32, 32])\n",
            "Epoch 908/2: Training loss = 0.9999995231628418\n",
            "torch.Size([1, 3, 32, 32])\n",
            "Epoch 909/2: Training loss = 0.9999995231628418\n",
            "torch.Size([1, 3, 32, 32])\n",
            "Epoch 910/2: Training loss = 0.9999995231628418\n",
            "torch.Size([1, 3, 32, 32])\n",
            "Epoch 911/2: Training loss = 0.9999995231628418\n",
            "torch.Size([1, 3, 32, 32])\n",
            "Epoch 912/2: Training loss = 0.9999995231628418\n",
            "torch.Size([1, 3, 32, 32])\n",
            "Epoch 913/2: Training loss = 0.9999995231628418\n",
            "torch.Size([1, 3, 32, 32])\n",
            "Epoch 914/2: Training loss = 0.9999995231628418\n",
            "torch.Size([1, 3, 32, 32])\n",
            "Epoch 915/2: Training loss = 0.9999995231628418\n",
            "torch.Size([1, 3, 32, 32])\n",
            "Epoch 916/2: Training loss = 0.9999995231628418\n",
            "torch.Size([1, 3, 32, 32])\n",
            "Epoch 917/2: Training loss = 0.9999995231628418\n",
            "torch.Size([1, 3, 32, 32])\n",
            "Epoch 918/2: Training loss = 0.9999995231628418\n",
            "torch.Size([1, 3, 32, 32])\n",
            "Epoch 919/2: Training loss = 0.9999995231628418\n",
            "torch.Size([1, 3, 32, 32])\n",
            "Epoch 920/2: Training loss = 0.9999995231628418\n",
            "torch.Size([1, 3, 32, 32])\n",
            "Epoch 921/2: Training loss = 0.9999995231628418\n",
            "torch.Size([1, 3, 32, 32])\n",
            "Epoch 922/2: Training loss = 0.9999995231628418\n",
            "torch.Size([1, 3, 32, 32])\n",
            "Epoch 923/2: Training loss = 0.9999995231628418\n",
            "torch.Size([1, 3, 32, 32])\n",
            "Epoch 924/2: Training loss = 0.9999995231628418\n",
            "torch.Size([1, 3, 32, 32])\n",
            "Epoch 925/2: Training loss = 0.9999995231628418\n",
            "torch.Size([1, 3, 32, 32])\n",
            "Epoch 926/2: Training loss = 0.9999995231628418\n",
            "torch.Size([1, 3, 32, 32])\n",
            "Epoch 927/2: Training loss = 0.9999995231628418\n",
            "torch.Size([1, 3, 32, 32])\n",
            "Epoch 928/2: Training loss = 0.9999995231628418\n",
            "torch.Size([1, 3, 32, 32])\n",
            "Epoch 929/2: Training loss = 0.9999995231628418\n",
            "torch.Size([1, 3, 32, 32])\n",
            "Epoch 930/2: Training loss = 0.9999995231628418\n",
            "torch.Size([1, 3, 32, 32])\n",
            "Epoch 931/2: Training loss = 0.9999995231628418\n",
            "torch.Size([1, 3, 32, 32])\n",
            "Epoch 932/2: Training loss = 0.9999995231628418\n",
            "torch.Size([1, 3, 32, 32])\n",
            "Epoch 933/2: Training loss = 0.9999995231628418\n",
            "torch.Size([1, 3, 32, 32])\n",
            "Epoch 934/2: Training loss = 0.9999995231628418\n",
            "torch.Size([1, 3, 32, 32])\n",
            "Epoch 935/2: Training loss = 0.9999995231628418\n",
            "torch.Size([1, 3, 32, 32])\n",
            "Epoch 936/2: Training loss = 0.9999995231628418\n",
            "torch.Size([1, 3, 32, 32])\n",
            "Epoch 937/2: Training loss = 0.9999995231628418\n",
            "torch.Size([1, 3, 32, 32])\n",
            "Epoch 938/2: Training loss = 0.9999995231628418\n",
            "torch.Size([1, 3, 32, 32])\n",
            "Epoch 939/2: Training loss = 0.9999995231628418\n",
            "torch.Size([1, 3, 32, 32])\n",
            "Epoch 940/2: Training loss = 0.9999995231628418\n",
            "torch.Size([1, 3, 32, 32])\n",
            "Epoch 941/2: Training loss = 0.9999995231628418\n",
            "torch.Size([1, 3, 32, 32])\n",
            "Epoch 942/2: Training loss = 0.9999995231628418\n",
            "torch.Size([1, 3, 32, 32])\n",
            "Epoch 943/2: Training loss = 0.9999995231628418\n",
            "torch.Size([1, 3, 32, 32])\n",
            "Epoch 944/2: Training loss = 0.9999995231628418\n",
            "torch.Size([1, 3, 32, 32])\n",
            "Epoch 945/2: Training loss = 0.9999995231628418\n",
            "torch.Size([1, 3, 32, 32])\n",
            "Epoch 946/2: Training loss = 0.9999995231628418\n",
            "torch.Size([1, 3, 32, 32])\n",
            "Epoch 947/2: Training loss = 0.9999995231628418\n",
            "torch.Size([1, 3, 32, 32])\n",
            "Epoch 948/2: Training loss = 0.9999995231628418\n",
            "torch.Size([1, 3, 32, 32])\n",
            "Epoch 949/2: Training loss = 0.9999995231628418\n",
            "torch.Size([1, 3, 32, 32])\n",
            "Epoch 950/2: Training loss = 0.9999995231628418\n",
            "torch.Size([1, 3, 32, 32])\n",
            "Epoch 951/2: Training loss = 0.9999995231628418\n",
            "torch.Size([1, 3, 32, 32])\n",
            "Epoch 952/2: Training loss = 0.9999995231628418\n",
            "torch.Size([1, 3, 32, 32])\n",
            "Epoch 953/2: Training loss = 0.9999995231628418\n",
            "torch.Size([1, 3, 32, 32])\n",
            "Epoch 954/2: Training loss = 0.9999995231628418\n",
            "torch.Size([1, 3, 32, 32])\n",
            "Epoch 955/2: Training loss = 0.9999995231628418\n",
            "torch.Size([1, 3, 32, 32])\n",
            "Epoch 956/2: Training loss = 0.9999995231628418\n",
            "torch.Size([1, 3, 32, 32])\n",
            "Epoch 957/2: Training loss = 0.9999995231628418\n",
            "torch.Size([1, 3, 32, 32])\n",
            "Epoch 958/2: Training loss = 0.9999995231628418\n",
            "torch.Size([1, 3, 32, 32])\n",
            "Epoch 959/2: Training loss = 0.9999995231628418\n",
            "torch.Size([1, 3, 32, 32])\n",
            "Epoch 960/2: Training loss = 0.9999995231628418\n",
            "torch.Size([1, 3, 32, 32])\n",
            "Epoch 961/2: Training loss = 0.9999995231628418\n",
            "torch.Size([1, 3, 32, 32])\n",
            "Epoch 962/2: Training loss = 0.9999995231628418\n",
            "torch.Size([1, 3, 32, 32])\n",
            "Epoch 963/2: Training loss = 0.9999995231628418\n",
            "torch.Size([1, 3, 32, 32])\n",
            "Epoch 964/2: Training loss = 0.9999995231628418\n",
            "torch.Size([1, 3, 32, 32])\n",
            "Epoch 965/2: Training loss = 0.9999995231628418\n",
            "torch.Size([1, 3, 32, 32])\n",
            "Epoch 966/2: Training loss = 0.9999995231628418\n",
            "torch.Size([1, 3, 32, 32])\n",
            "Epoch 967/2: Training loss = 0.9999995231628418\n",
            "torch.Size([1, 3, 32, 32])\n",
            "Epoch 968/2: Training loss = 0.9999995231628418\n",
            "torch.Size([1, 3, 32, 32])\n",
            "Epoch 969/2: Training loss = 0.9999995231628418\n",
            "torch.Size([1, 3, 32, 32])\n",
            "Epoch 970/2: Training loss = 0.9999995231628418\n",
            "torch.Size([1, 3, 32, 32])\n",
            "Epoch 971/2: Training loss = 0.9999995231628418\n",
            "torch.Size([1, 3, 32, 32])\n",
            "Epoch 972/2: Training loss = 0.9999995231628418\n",
            "torch.Size([1, 3, 32, 32])\n",
            "Epoch 973/2: Training loss = 0.9999995231628418\n",
            "torch.Size([1, 3, 32, 32])\n",
            "Epoch 974/2: Training loss = 0.9999995231628418\n",
            "torch.Size([1, 3, 32, 32])\n",
            "Epoch 975/2: Training loss = 0.9999995231628418\n",
            "torch.Size([1, 3, 32, 32])\n",
            "Epoch 976/2: Training loss = 0.9999995231628418\n",
            "torch.Size([1, 3, 32, 32])\n",
            "Epoch 977/2: Training loss = 0.9999995231628418\n",
            "torch.Size([1, 3, 32, 32])\n",
            "Epoch 978/2: Training loss = 0.9999995231628418\n",
            "torch.Size([1, 3, 32, 32])\n",
            "Epoch 979/2: Training loss = 0.9999995231628418\n",
            "torch.Size([1, 3, 32, 32])\n",
            "Epoch 980/2: Training loss = 0.9999995231628418\n",
            "torch.Size([1, 3, 32, 32])\n",
            "Epoch 981/2: Training loss = 0.9999995231628418\n",
            "torch.Size([1, 3, 32, 32])\n",
            "Epoch 982/2: Training loss = 0.9999995231628418\n",
            "torch.Size([1, 3, 32, 32])\n",
            "Epoch 983/2: Training loss = 0.9999995231628418\n",
            "torch.Size([1, 3, 32, 32])\n",
            "Epoch 984/2: Training loss = 0.9999995231628418\n",
            "torch.Size([1, 3, 32, 32])\n",
            "Epoch 985/2: Training loss = 0.9999995231628418\n",
            "torch.Size([1, 3, 32, 32])\n",
            "Epoch 986/2: Training loss = 0.9999995231628418\n",
            "torch.Size([1, 3, 32, 32])\n",
            "Epoch 987/2: Training loss = 0.9999995231628418\n",
            "torch.Size([1, 3, 32, 32])\n",
            "Epoch 988/2: Training loss = 0.9999995231628418\n",
            "torch.Size([1, 3, 32, 32])\n",
            "Epoch 989/2: Training loss = 0.9999995231628418\n",
            "torch.Size([1, 3, 32, 32])\n",
            "Epoch 990/2: Training loss = 0.9999995231628418\n",
            "torch.Size([1, 3, 32, 32])\n",
            "Epoch 991/2: Training loss = 0.9999995231628418\n",
            "torch.Size([1, 3, 32, 32])\n",
            "Epoch 992/2: Training loss = 0.9999995231628418\n",
            "torch.Size([1, 3, 32, 32])\n",
            "Epoch 993/2: Training loss = 0.9999995231628418\n",
            "torch.Size([1, 3, 32, 32])\n",
            "Epoch 994/2: Training loss = 0.9999995231628418\n",
            "torch.Size([1, 3, 32, 32])\n",
            "Epoch 995/2: Training loss = 0.9999995231628418\n",
            "torch.Size([1, 3, 32, 32])\n",
            "Epoch 996/2: Training loss = 0.9999995231628418\n",
            "torch.Size([1, 3, 32, 32])\n",
            "Epoch 997/2: Training loss = 0.9999995231628418\n",
            "torch.Size([1, 3, 32, 32])\n",
            "Epoch 998/2: Training loss = 0.9999995231628418\n",
            "torch.Size([1, 3, 32, 32])\n",
            "Epoch 999/2: Training loss = 0.9999995231628418\n",
            "torch.Size([1, 3, 32, 32])\n",
            "Epoch 1000/2: Training loss = 0.9999995231628418\n"
          ]
        }
      ],
      "source": [
        "# label = torch.zeros((1))\n",
        "# label = label.to(device)\n",
        "# Enable gradient calculation for input\n",
        "adversarial_inp.requires_grad = True\n",
        "for epoch in range(1000):\n",
        "    train_loss = 0\n",
        "    model.train()\n",
        "    outputs = model(adversarial_inp)\n",
        "    outputs = torch.nn.functional.softmax(outputs, dim=1)\n",
        "    # loss = criterion(outputs, label)\n",
        "    loss = 1-outputs[0][adversarial_class]+const_factor\n",
        "    optimizer.zero_grad()\n",
        "    loss.backward()\n",
        "    print(adversarial_inp.grad.shape)\n",
        "    with torch.no_grad():\n",
        "        adversarial_inp -= learning_rate * adversarial_inp.grad\n",
        "        adversarial_inp.grad.zero_()  # Clear the gradients\n",
        "    train_loss = loss.item()\n",
        "    print(f'Epoch {epoch+1}/{2}:', end=' ')\n",
        "    print(f\"Training loss = {train_loss}\")"
      ]
    },
    {
      "cell_type": "code",
      "source": [
        "print(model(adversarial_inp))"
      ],
      "metadata": {
        "id": "WzHavlAXYZGm"
      },
      "execution_count": null,
      "outputs": []
    },
    {
      "cell_type": "code",
      "source": [
        "print(adversarial_inp)"
      ],
      "metadata": {
        "colab": {
          "base_uri": "https://localhost:8080/"
        },
        "id": "8U8nnaPfaU_v",
        "outputId": "61d52d20-480e-489f-d8b2-a3653d268af3"
      },
      "execution_count": null,
      "outputs": [
        {
          "output_type": "stream",
          "name": "stdout",
          "text": [
            "tensor([[[[-0.9992, -0.5578, -0.5430,  ..., -1.3379,  0.5084, -0.8026],\n",
            "          [-1.7341,  0.2474, -1.1544,  ...,  0.9972,  0.1437, -0.1446],\n",
            "          [-0.6148, -1.5673, -0.1268,  ..., -0.2293, -1.2468,  0.3253],\n",
            "          ...,\n",
            "          [ 0.6331, -0.5949, -0.7831,  ..., -1.7946, -0.7792,  0.0130],\n",
            "          [ 0.6276,  0.7725, -0.5600,  ...,  1.2132,  1.6616,  2.2940],\n",
            "          [ 1.2265, -0.2243, -0.8309,  ..., -1.0965, -0.1226,  0.7563]],\n",
            "\n",
            "         [[-1.3819,  2.4281,  0.0081,  ..., -3.4330,  0.1247,  0.8030],\n",
            "          [ 0.8899, -2.1040, -0.9181,  ...,  0.6441, -1.6056,  1.4198],\n",
            "          [-2.1779, -0.5951, -0.5865,  ..., -0.1101,  1.6728,  0.5141],\n",
            "          ...,\n",
            "          [-0.5806, -0.8980,  1.8310,  ...,  1.1931, -0.6869, -0.3352],\n",
            "          [-0.0108, -1.1504, -0.5974,  ..., -0.2070,  0.2568, -1.9915],\n",
            "          [-1.0474,  0.6127,  1.3162,  ..., -0.0656, -1.5717,  0.1075]],\n",
            "\n",
            "         [[ 0.7897, -1.7247, -0.4775,  ..., -1.1444, -0.2050,  1.1382],\n",
            "          [-0.3310,  0.1175, -1.4814,  ...,  0.3480,  0.7279, -0.6761],\n",
            "          [ 0.1375, -0.6649, -2.0019,  ...,  0.4876,  2.1791,  1.4204],\n",
            "          ...,\n",
            "          [ 1.0133, -0.5449,  0.5348,  ..., -2.0751,  0.6797, -0.2603],\n",
            "          [ 0.0227,  0.2456,  0.3406,  ..., -0.7263, -0.4033,  1.9128],\n",
            "          [ 2.4084,  0.4217,  0.7641,  ...,  0.7360,  0.9867,  2.5619]]]],\n",
            "       device='cuda:0', requires_grad=True)\n"
          ]
        }
      ]
    },
    {
      "cell_type": "code",
      "source": [
        "def unnormalize(tensor, mean, std):\n",
        "    for t, m, s in zip(tensor, mean, std):\n",
        "        t.mul_(s).add_(m)\n",
        "    return tensor"
      ],
      "metadata": {
        "id": "hcPE_gLTf9Rv"
      },
      "execution_count": null,
      "outputs": []
    },
    {
      "cell_type": "code",
      "source": [
        "#Reconstructed adversarial class image\n",
        "reconstructed_image = adversarial_inp.clone().detach().cpu()\n",
        "reconstructed_image = unnormalize(reconstructed_image[0], mean, std)\n",
        "plt.imshow(reconstructed_image.numpy().transpose(1,2,0))"
      ],
      "metadata": {
        "colab": {
          "base_uri": "https://localhost:8080/",
          "height": 465
        },
        "id": "xLJBl5Scae0R",
        "outputId": "957c537b-1830-4a0b-db0f-125fa9658f5b"
      },
      "execution_count": null,
      "outputs": [
        {
          "output_type": "stream",
          "name": "stderr",
          "text": [
            "WARNING:matplotlib.image:Clipping input data to the valid range for imshow with RGB data ([0..1] for floats or [0..255] for integers).\n"
          ]
        },
        {
          "output_type": "execute_result",
          "data": {
            "text/plain": [
              "<matplotlib.image.AxesImage at 0x7cbc2c102e30>"
            ]
          },
          "metadata": {},
          "execution_count": 79
        },
        {
          "output_type": "display_data",
          "data": {
            "text/plain": [
              "<Figure size 640x480 with 1 Axes>"
            ],
            "image/png": "[encoded data removed]"
          },
          "metadata": {}
        }
      ]
    },
    {
      "cell_type": "code",
      "source": [
        "#Comparing produced images along with losses for all the cifar-10 classes(all above steps included)\n",
        "fig, axes = plt.subplots(2, 5, figsize=(15, 6))\n",
        "\n",
        "for adversarial_class in range(10):\n",
        "    adversarial_inp = torch.randn((1,3,32,32))\n",
        "    adversarial_inp = adversarial_inp.to(device)\n",
        "\n",
        "    adversarial_inp.requires_grad = True\n",
        "    for epoch in range(1000):\n",
        "        train_loss = 0\n",
        "        model.train()\n",
        "        outputs = model(adversarial_inp)\n",
        "        outputs = torch.nn.functional.softmax(outputs, dim=1)\n",
        "        # loss = criterion(outputs, label)\n",
        "        loss = 1-outputs[0][adversarial_class]+const_factor\n",
        "        optimizer.zero_grad()\n",
        "        loss.backward()\n",
        "        with torch.no_grad():\n",
        "            adversarial_inp -= learning_rate * adversarial_inp.grad\n",
        "            adversarial_inp.grad.zero_()  # Clear the gradients\n",
        "        train_loss = loss.item()\n",
        "    print(f'Class {adversarial_class}: Loss = {train_loss}')\n",
        "    reconstructed_image = adversarial_inp.clone().detach().cpu()\n",
        "    reconstructed_image = unnormalize(reconstructed_image[0], mean, std)\n",
        "    reconstructed_image = reconstructed_image.numpy().transpose(1,2,0)\n",
        "    ax = axes[adversarial_class // 5, adversarial_class % 5]\n",
        "    ax.imshow(reconstructed_image)\n",
        "    ax.set_title(f'Class {adversarial_class}')\n",
        "    ax.axis('off')\n",
        "\n",
        "plt.tight_layout()\n",
        "plt.show()"
      ],
      "metadata": {
        "colab": {
          "base_uri": "https://localhost:8080/",
          "height": 935
        },
        "id": "Q3tZymqqJ6zZ",
        "outputId": "31743b85-3966-48b3-a52d-80902f2bc27f"
      },
      "execution_count": null,
      "outputs": [
        {
          "output_type": "stream",
          "name": "stderr",
          "text": [
            "WARNING:matplotlib.image:Clipping input data to the valid range for imshow with RGB data ([0..1] for floats or [0..255] for integers).\n"
          ]
        },
        {
          "output_type": "stream",
          "name": "stdout",
          "text": [
            "Class 0: Loss = 1.0\n"
          ]
        },
        {
          "output_type": "stream",
          "name": "stderr",
          "text": [
            "WARNING:matplotlib.image:Clipping input data to the valid range for imshow with RGB data ([0..1] for floats or [0..255] for integers).\n"
          ]
        },
        {
          "output_type": "stream",
          "name": "stdout",
          "text": [
            "Class 1: Loss = 1.0\n"
          ]
        },
        {
          "output_type": "stream",
          "name": "stderr",
          "text": [
            "WARNING:matplotlib.image:Clipping input data to the valid range for imshow with RGB data ([0..1] for floats or [0..255] for integers).\n"
          ]
        },
        {
          "output_type": "stream",
          "name": "stdout",
          "text": [
            "Class 2: Loss = 1.0\n"
          ]
        },
        {
          "output_type": "stream",
          "name": "stderr",
          "text": [
            "WARNING:matplotlib.image:Clipping input data to the valid range for imshow with RGB data ([0..1] for floats or [0..255] for integers).\n"
          ]
        },
        {
          "output_type": "stream",
          "name": "stdout",
          "text": [
            "Class 3: Loss = 1.0\n"
          ]
        },
        {
          "output_type": "stream",
          "name": "stderr",
          "text": [
            "WARNING:matplotlib.image:Clipping input data to the valid range for imshow with RGB data ([0..1] for floats or [0..255] for integers).\n"
          ]
        },
        {
          "output_type": "stream",
          "name": "stdout",
          "text": [
            "Class 4: Loss = 1.0\n"
          ]
        },
        {
          "output_type": "stream",
          "name": "stderr",
          "text": [
            "WARNING:matplotlib.image:Clipping input data to the valid range for imshow with RGB data ([0..1] for floats or [0..255] for integers).\n"
          ]
        },
        {
          "output_type": "stream",
          "name": "stdout",
          "text": [
            "Class 5: Loss = 1.0\n"
          ]
        },
        {
          "output_type": "stream",
          "name": "stderr",
          "text": [
            "WARNING:matplotlib.image:Clipping input data to the valid range for imshow with RGB data ([0..1] for floats or [0..255] for integers).\n"
          ]
        },
        {
          "output_type": "stream",
          "name": "stdout",
          "text": [
            "Class 6: Loss = 0.0\n"
          ]
        },
        {
          "output_type": "stream",
          "name": "stderr",
          "text": [
            "WARNING:matplotlib.image:Clipping input data to the valid range for imshow with RGB data ([0..1] for floats or [0..255] for integers).\n"
          ]
        },
        {
          "output_type": "stream",
          "name": "stdout",
          "text": [
            "Class 7: Loss = 1.0\n"
          ]
        },
        {
          "output_type": "stream",
          "name": "stderr",
          "text": [
            "WARNING:matplotlib.image:Clipping input data to the valid range for imshow with RGB data ([0..1] for floats or [0..255] for integers).\n"
          ]
        },
        {
          "output_type": "stream",
          "name": "stdout",
          "text": [
            "Class 8: Loss = 1.0\n"
          ]
        },
        {
          "output_type": "stream",
          "name": "stderr",
          "text": [
            "WARNING:matplotlib.image:Clipping input data to the valid range for imshow with RGB data ([0..1] for floats or [0..255] for integers).\n"
          ]
        },
        {
          "output_type": "stream",
          "name": "stdout",
          "text": [
            "Class 9: Loss = 1.0\n"
          ]
        },
        {
          "output_type": "display_data",
          "data": {
            "text/plain": [
              "<Figure size 1500x600 with 10 Axes>"
            ],
            "image/png": "[encoded data removed]"
          },
          "metadata": {}
        }
      ]
    },
    {
      "cell_type": "markdown",
      "source": [
        "**Problem is that even for inputs producing very small values of loss function the image seems like a lucky noisy one**"
      ],
      "metadata": {
        "id": "eprzei5OeNX9"
      }
    },
    {
      "cell_type": "markdown",
      "source": [
        "**Could be due to overfitting, tried L2 regularization but it didn't help at all**"
      ],
      "metadata": {
        "id": "Pjn4zVC6eqi-"
      }
    },
    {
      "cell_type": "markdown",
      "source": [
        "**Trying to reconstruct obfuscated image by output class information**"
      ],
      "metadata": {
        "id": "BE5xdJgcfTrB"
      }
    },
    {
      "cell_type": "code",
      "source": [
        "for i, (images, labels) in enumerate(train_loader):\n",
        "        images = images.to(device)\n",
        "        labels = labels.to(device)\n",
        "        break\n",
        "print(images[0].shape)"
      ],
      "metadata": {
        "colab": {
          "base_uri": "https://localhost:8080/"
        },
        "id": "IkQCjVImAzPH",
        "outputId": "51ccbd67-34a2-4a5c-8fea-8af67972c1e9"
      },
      "execution_count": null,
      "outputs": [
        {
          "output_type": "stream",
          "name": "stdout",
          "text": [
            "torch.Size([3, 32, 32])\n"
          ]
        }
      ]
    },
    {
      "cell_type": "code",
      "source": [
        "plt.imshow(unnormalize(images[0].clone().detach().cpu(), mean, std).numpy().transpose(1,2,0))"
      ],
      "metadata": {
        "colab": {
          "base_uri": "https://localhost:8080/",
          "height": 447
        },
        "id": "bcdg3gqFDCMd",
        "outputId": "91f4aca8-cc33-43f4-c785-7a215d30f242"
      },
      "execution_count": null,
      "outputs": [
        {
          "output_type": "execute_result",
          "data": {
            "text/plain": [
              "<matplotlib.image.AxesImage at 0x7f389576f820>"
            ]
          },
          "metadata": {},
          "execution_count": 19
        },
        {
          "output_type": "display_data",
          "data": {
            "text/plain": [
              "<Figure size 640x480 with 1 Axes>"
            ],
            "image/png": "[encoded data removed]"
          },
          "metadata": {}
        }
      ]
    },
    {
      "cell_type": "code",
      "source": [
        "#Output of original image\n",
        "with torch.no_grad():\n",
        "  print(torch.nn.functional.softmax(model(images)[0],dim=0))\n",
        "  adversarial_class = torch.argmax(model(images)[0]).item()\n",
        "  print(adversarial_class)"
      ],
      "metadata": {
        "colab": {
          "base_uri": "https://localhost:8080/"
        },
        "id": "_3ddPpzEDjh-",
        "outputId": "854a0027-c471-4711-94aa-53f46840dd72"
      },
      "execution_count": null,
      "outputs": [
        {
          "output_type": "stream",
          "name": "stdout",
          "text": [
            "tensor([3.9308e-19, 1.0000e+00, 1.0120e-17, 5.6416e-07, 6.4227e-19, 2.4389e-15,\n",
            "        1.3633e-16, 4.1573e-23, 2.6947e-32, 5.7073e-16], device='cuda:0')\n",
            "1\n"
          ]
        }
      ]
    },
    {
      "cell_type": "markdown",
      "source": [
        "**Identified 3 levels of obfuscation 0.1,0.4 and 1(standard devns)**"
      ],
      "metadata": {
        "id": "NcvqnfjtI0UQ"
      }
    },
    {
      "cell_type": "markdown",
      "source": [
        "**First for 0.1**"
      ],
      "metadata": {
        "id": "MR4om5OVI9wW"
      }
    },
    {
      "cell_type": "code",
      "source": [
        "#Obfuscating Image by adding noise\n",
        "std_noise = .1\n",
        "mean_noise = 0\n",
        "tmp = images[0].clone()\n",
        "tmp = tmp + (torch.randn(tmp.size()) * std_noise + mean_noise).to(device)\n",
        "tmp = tmp.unsqueeze(0)"
      ],
      "metadata": {
        "id": "OowHU024GlSi"
      },
      "execution_count": null,
      "outputs": []
    },
    {
      "cell_type": "code",
      "source": [
        "plt.imshow(unnormalize(tmp[0].clone().detach().cpu(), mean, std).numpy().transpose(1,2,0))"
      ],
      "metadata": {
        "colab": {
          "base_uri": "https://localhost:8080/",
          "height": 465
        },
        "id": "K93-ogHoHFf8",
        "outputId": "b755403b-fc7b-41e2-c357-8139e9e7a81d"
      },
      "execution_count": null,
      "outputs": [
        {
          "output_type": "stream",
          "name": "stderr",
          "text": [
            "WARNING:matplotlib.image:Clipping input data to the valid range for imshow with RGB data ([0..1] for floats or [0..255] for integers).\n"
          ]
        },
        {
          "output_type": "execute_result",
          "data": {
            "text/plain": [
              "<matplotlib.image.AxesImage at 0x7f3894c9d030>"
            ]
          },
          "metadata": {},
          "execution_count": 70
        },
        {
          "output_type": "display_data",
          "data": {
            "text/plain": [
              "<Figure size 640x480 with 1 Axes>"
            ],
            "image/png": "[encoded data removed]"
          },
          "metadata": {}
        }
      ]
    },
    {
      "cell_type": "code",
      "source": [
        "#Output of obfuscated image\n",
        "with torch.no_grad():\n",
        "  print(torch.nn.functional.softmax(model(tmp)[0],dim=0))\n",
        "  print(torch.argmax(model(tmp)).item())"
      ],
      "metadata": {
        "colab": {
          "base_uri": "https://localhost:8080/"
        },
        "id": "i6xxJ7ynIvrm",
        "outputId": "c9b83a34-6916-401a-d995-2fe4af58be1d"
      },
      "execution_count": null,
      "outputs": [
        {
          "output_type": "stream",
          "name": "stdout",
          "text": [
            "tensor([4.8284e-20, 1.0000e+00, 7.1057e-18, 1.1037e-06, 4.9583e-19, 5.0958e-15,\n",
            "        6.2544e-17, 2.1623e-23, 1.7707e-32, 1.5129e-16], device='cuda:0')\n",
            "1\n"
          ]
        }
      ]
    },
    {
      "cell_type": "code",
      "source": [
        "adversarial_inp = tmp\n",
        "adversarial_inp.requires_grad = True\n",
        "learning_rate = 0.1\n",
        "const_factor = 0\n",
        "for epoch in range(1000):\n",
        "    train_loss = 0\n",
        "    model.train()\n",
        "    outputs = model(adversarial_inp)\n",
        "    outputs = torch.nn.functional.softmax(outputs, dim=1)\n",
        "    # loss = criterion(outputs, label)\n",
        "    loss = 1-outputs[0][adversarial_class]+const_factor\n",
        "    optimizer.zero_grad()\n",
        "    loss.backward()\n",
        "    with torch.no_grad():\n",
        "        adversarial_inp -= learning_rate * adversarial_inp.grad\n",
        "        adversarial_inp.grad.zero_()  # Clear the gradients\n",
        "    train_loss = loss.item()\n",
        "print(f'Class {adversarial_class}: Loss = {train_loss}')\n",
        "reconstructed_image = adversarial_inp.clone().detach().cpu()\n",
        "plt.imshow(unnormalize(reconstructed_image[0], mean, std).numpy().transpose(1,2,0))"
      ],
      "metadata": {
        "colab": {
          "base_uri": "https://localhost:8080/",
          "height": 482
        },
        "id": "K67sDC4SKOIV",
        "outputId": "af283cb4-e446-4168-f7c6-f82d505efb65"
      },
      "execution_count": null,
      "outputs": [
        {
          "output_type": "stream",
          "name": "stderr",
          "text": [
            "WARNING:matplotlib.image:Clipping input data to the valid range for imshow with RGB data ([0..1] for floats or [0..255] for integers).\n"
          ]
        },
        {
          "output_type": "stream",
          "name": "stdout",
          "text": [
            "Class 1: Loss = 1.0728836059570312e-06\n"
          ]
        },
        {
          "output_type": "execute_result",
          "data": {
            "text/plain": [
              "<matplotlib.image.AxesImage at 0x7f38953199c0>"
            ]
          },
          "metadata": {},
          "execution_count": 86
        },
        {
          "output_type": "display_data",
          "data": {
            "text/plain": [
              "<Figure size 640x480 with 1 Axes>"
            ],
            "image/png": "[encoded data removed]"
          },
          "metadata": {}
        }
      ]
    },
    {
      "cell_type": "code",
      "source": [
        "#Difference between original and reconstructed image\n",
        "plt.imshow(unnormalize(images[0].clone().detach().cpu(), mean, std).numpy().transpose(1,2,0)-unnormalize(reconstructed_image[0], mean, std).numpy().transpose(1,2,0))"
      ],
      "metadata": {
        "colab": {
          "base_uri": "https://localhost:8080/",
          "height": 465
        },
        "id": "s0XE-UwtMDTn",
        "outputId": "25959be9-bbe9-4ee6-a811-d7fa2a91c31f"
      },
      "execution_count": null,
      "outputs": [
        {
          "output_type": "stream",
          "name": "stderr",
          "text": [
            "WARNING:matplotlib.image:Clipping input data to the valid range for imshow with RGB data ([0..1] for floats or [0..255] for integers).\n"
          ]
        },
        {
          "output_type": "execute_result",
          "data": {
            "text/plain": [
              "<matplotlib.image.AxesImage at 0x7f3894740640>"
            ]
          },
          "metadata": {},
          "execution_count": 87
        },
        {
          "output_type": "display_data",
          "data": {
            "text/plain": [
              "<Figure size 640x480 with 1 Axes>"
            ],
            "image/png": "[encoded data removed]"
          },
          "metadata": {}
        }
      ]
    },
    {
      "cell_type": "code",
      "source": [
        "#Output of reconstructed image\n",
        "with torch.no_grad():\n",
        "  print(torch.nn.functional.softmax(model(adversarial_inp)[0],dim=0))\n",
        "  print(torch.argmax(model(adversarial_inp)).item())"
      ],
      "metadata": {
        "colab": {
          "base_uri": "https://localhost:8080/"
        },
        "id": "2wSowLqmNMKl",
        "outputId": "f2fc7e2c-4f9f-4278-bec0-8b4b9176b178"
      },
      "execution_count": null,
      "outputs": [
        {
          "output_type": "stream",
          "name": "stdout",
          "text": [
            "tensor([4.5924e-20, 1.0000e+00, 6.8195e-18, 1.0367e-06, 4.7680e-19, 4.8670e-15,\n",
            "        6.1387e-17, 2.0693e-23, 1.7074e-32, 1.4980e-16], device='cuda:0')\n",
            "1\n"
          ]
        }
      ]
    },
    {
      "cell_type": "markdown",
      "source": [
        "**Next for 0.4**"
      ],
      "metadata": {
        "id": "yp_a3foxM2Fg"
      }
    },
    {
      "cell_type": "code",
      "source": [
        "#Obfuscating Image by adding noise\n",
        "std_noise = .4\n",
        "mean_noise = 0\n",
        "tmp = images[0].clone()\n",
        "tmp = tmp + (torch.randn(tmp.size()) * std_noise + mean_noise).to(device)\n",
        "tmp = tmp.unsqueeze(0)"
      ],
      "metadata": {
        "id": "OMjPAoDANGB3"
      },
      "execution_count": null,
      "outputs": []
    },
    {
      "cell_type": "code",
      "source": [
        "plt.imshow(unnormalize(tmp[0].clone().detach().cpu(), mean, std).numpy().transpose(1,2,0))"
      ],
      "metadata": {
        "colab": {
          "base_uri": "https://localhost:8080/",
          "height": 465
        },
        "outputId": "06a5054d-3307-4705-e1d2-2dfaab7d63e4",
        "id": "DFaOT1BtNGCU"
      },
      "execution_count": null,
      "outputs": [
        {
          "output_type": "stream",
          "name": "stderr",
          "text": [
            "WARNING:matplotlib.image:Clipping input data to the valid range for imshow with RGB data ([0..1] for floats or [0..255] for integers).\n"
          ]
        },
        {
          "output_type": "execute_result",
          "data": {
            "text/plain": [
              "<matplotlib.image.AxesImage at 0x7f384fc38220>"
            ]
          },
          "metadata": {},
          "execution_count": 124
        },
        {
          "output_type": "display_data",
          "data": {
            "text/plain": [
              "<Figure size 640x480 with 1 Axes>"
            ],
            "image/png": "[encoded data removed]"
          },
          "metadata": {}
        }
      ]
    },
    {
      "cell_type": "code",
      "source": [
        "#Output of obfuscated image\n",
        "with torch.no_grad():\n",
        "  print(torch.nn.functional.softmax(model(tmp)[0],dim=0))\n",
        "  print(torch.argmax(model(tmp)).item())"
      ],
      "metadata": {
        "colab": {
          "base_uri": "https://localhost:8080/"
        },
        "outputId": "1fd87039-a8b8-4ce0-87eb-387eac7d4301",
        "id": "x5u1mkLQM2F2"
      },
      "execution_count": null,
      "outputs": [
        {
          "output_type": "stream",
          "name": "stdout",
          "text": [
            "tensor([4.7141e-21, 1.3972e-06, 8.1702e-13, 9.9956e-01, 1.7410e-08, 4.3776e-04,\n",
            "        1.2083e-16, 9.9455e-12, 1.2953e-24, 5.0875e-12], device='cuda:0')\n",
            "3\n"
          ]
        }
      ]
    },
    {
      "cell_type": "code",
      "source": [
        "adversarial_inp = tmp\n",
        "adversarial_inp.requires_grad = True\n",
        "learning_rate = 0.5\n",
        "const_factor = 0\n",
        "for epoch in range(1000):\n",
        "    train_loss = 0\n",
        "    model.train()\n",
        "    outputs = model(adversarial_inp)\n",
        "    outputs = torch.nn.functional.softmax(outputs, dim=1)\n",
        "    # loss = criterion(outputs, label)\n",
        "    loss = 1-outputs[0][adversarial_class]+const_factor\n",
        "    optimizer.zero_grad()\n",
        "    loss.backward()\n",
        "    with torch.no_grad():\n",
        "        adversarial_inp -= learning_rate * adversarial_inp.grad\n",
        "        adversarial_inp.grad.zero_()  # Clear the gradients\n",
        "    train_loss = loss.item()\n",
        "print(f'Class {adversarial_class}: Loss = {train_loss}')\n",
        "reconstructed_image = adversarial_inp.clone().detach().cpu()\n",
        "plt.imshow(unnormalize(reconstructed_image[0], mean, std).numpy().transpose(1,2,0))"
      ],
      "metadata": {
        "colab": {
          "base_uri": "https://localhost:8080/",
          "height": 482
        },
        "outputId": "41de752d-2c1e-40b9-8e86-5ae9cd54d634",
        "id": "zLD1jgojM2F2"
      },
      "execution_count": null,
      "outputs": [
        {
          "output_type": "stream",
          "name": "stderr",
          "text": [
            "WARNING:matplotlib.image:Clipping input data to the valid range for imshow with RGB data ([0..1] for floats or [0..255] for integers).\n"
          ]
        },
        {
          "output_type": "stream",
          "name": "stdout",
          "text": [
            "Class 1: Loss = 1.6689300537109375e-06\n"
          ]
        },
        {
          "output_type": "execute_result",
          "data": {
            "text/plain": [
              "<matplotlib.image.AxesImage at 0x7f384fb83a00>"
            ]
          },
          "metadata": {},
          "execution_count": 127
        },
        {
          "output_type": "display_data",
          "data": {
            "text/plain": [
              "<Figure size 640x480 with 1 Axes>"
            ],
            "image/png": "[encoded data removed]"
          },
          "metadata": {}
        }
      ]
    },
    {
      "cell_type": "code",
      "source": [
        "#Difference between original and reconstructed image\n",
        "plt.imshow(unnormalize(images[0].clone().detach().cpu(), mean, std).numpy().transpose(1,2,0)-unnormalize(reconstructed_image[0], mean, std).numpy().transpose(1,2,0))"
      ],
      "metadata": {
        "colab": {
          "base_uri": "https://localhost:8080/",
          "height": 465
        },
        "outputId": "7dab5e47-06c9-4959-f12f-c7c55312b0c4",
        "id": "8Eb_fNyvM2F4"
      },
      "execution_count": null,
      "outputs": [
        {
          "output_type": "stream",
          "name": "stderr",
          "text": [
            "WARNING:matplotlib.image:Clipping input data to the valid range for imshow with RGB data ([0..1] for floats or [0..255] for integers).\n"
          ]
        },
        {
          "output_type": "execute_result",
          "data": {
            "text/plain": [
              "<matplotlib.image.AxesImage at 0x7f384fbfe140>"
            ]
          },
          "metadata": {},
          "execution_count": 128
        },
        {
          "output_type": "display_data",
          "data": {
            "text/plain": [
              "<Figure size 640x480 with 1 Axes>"
            ],
            "image/png": "[encoded data removed]"
          },
          "metadata": {}
        }
      ]
    },
    {
      "cell_type": "code",
      "source": [
        "#Output of reconstructed image\n",
        "with torch.no_grad():\n",
        "  print(torch.nn.functional.softmax(model(adversarial_inp)[0],dim=0))\n",
        "  print(torch.argmax(model(adversarial_inp)).item())"
      ],
      "metadata": {
        "colab": {
          "base_uri": "https://localhost:8080/"
        },
        "id": "C7PzIhE2OGvK",
        "outputId": "b4074cf5-49b7-4843-a4c8-8d1bdc07d4c6"
      },
      "execution_count": null,
      "outputs": [
        {
          "output_type": "stream",
          "name": "stdout",
          "text": [
            "tensor([5.4544e-24, 1.0000e+00, 1.7689e-13, 8.9971e-07, 1.3462e-10, 6.5950e-07,\n",
            "        4.1911e-14, 1.7366e-14, 2.7815e-26, 5.4957e-09], device='cuda:0')\n",
            "1\n"
          ]
        }
      ]
    },
    {
      "cell_type": "markdown",
      "source": [
        "**Image has been successfully reconstructed with an optimal learning rate**"
      ],
      "metadata": {
        "id": "4J1EB_TpPA61"
      }
    },
    {
      "cell_type": "markdown",
      "source": [
        "**Now we shall try for a highly obfuscated image**"
      ],
      "metadata": {
        "id": "v9-San0BPHld"
      }
    },
    {
      "cell_type": "code",
      "source": [
        "#Obfuscating Image by adding noise\n",
        "std_noise = 1\n",
        "mean_noise = 0\n",
        "tmp = images[0].clone()\n",
        "tmp = tmp + (torch.randn(tmp.size()) * std_noise + mean_noise).to(device)\n",
        "tmp = tmp.unsqueeze(0)"
      ],
      "metadata": {
        "id": "86eaVsU7PSrY"
      },
      "execution_count": null,
      "outputs": []
    },
    {
      "cell_type": "code",
      "source": [
        "plt.imshow(unnormalize(tmp[0].clone().detach().cpu(), mean, std).numpy().transpose(1,2,0))"
      ],
      "metadata": {
        "colab": {
          "base_uri": "https://localhost:8080/",
          "height": 465
        },
        "outputId": "97802df4-e203-4ad0-ce95-c4f0b1a2a071",
        "id": "d1ysdyBzPSri"
      },
      "execution_count": null,
      "outputs": [
        {
          "output_type": "stream",
          "name": "stderr",
          "text": [
            "WARNING:matplotlib.image:Clipping input data to the valid range for imshow with RGB data ([0..1] for floats or [0..255] for integers).\n"
          ]
        },
        {
          "output_type": "execute_result",
          "data": {
            "text/plain": [
              "<matplotlib.image.AxesImage at 0x7f384f9e93f0>"
            ]
          },
          "metadata": {},
          "execution_count": 136
        },
        {
          "output_type": "display_data",
          "data": {
            "text/plain": [
              "<Figure size 640x480 with 1 Axes>"
            ],
            "image/png": "[encoded data removed]"
          },
          "metadata": {}
        }
      ]
    },
    {
      "cell_type": "code",
      "source": [
        "#Output of obfuscated image\n",
        "with torch.no_grad():\n",
        "  print(torch.nn.functional.softmax(model(tmp)[0],dim=0))\n",
        "  print(torch.argmax(model(tmp)).item())"
      ],
      "metadata": {
        "colab": {
          "base_uri": "https://localhost:8080/"
        },
        "outputId": "d5279c34-08a6-4bd8-eff7-fcb19b70e106",
        "id": "Xbfwtrt6PSri"
      },
      "execution_count": null,
      "outputs": [
        {
          "output_type": "stream",
          "name": "stdout",
          "text": [
            "tensor([1.3308e-19, 1.2780e-03, 8.2593e-05, 4.7210e-06, 1.5445e-07, 9.9682e-01,\n",
            "        1.8106e-03, 6.1662e-18, 4.8796e-32, 7.6318e-18], device='cuda:0')\n",
            "5\n"
          ]
        }
      ]
    },
    {
      "cell_type": "code",
      "source": [
        "adversarial_inp = tmp\n",
        "adversarial_inp.requires_grad = True\n",
        "learning_rate = 0.5\n",
        "const_factor = 0\n",
        "for epoch in range(1000):\n",
        "    train_loss = 0\n",
        "    model.train()\n",
        "    outputs = model(adversarial_inp)\n",
        "    outputs = torch.nn.functional.softmax(outputs, dim=1)\n",
        "    # loss = criterion(outputs, label)\n",
        "    loss = 1-outputs[0][adversarial_class]+const_factor\n",
        "    optimizer.zero_grad()\n",
        "    loss.backward()\n",
        "    with torch.no_grad():\n",
        "        adversarial_inp -= learning_rate * adversarial_inp.grad\n",
        "        adversarial_inp.grad.zero_()  # Clear the gradients\n",
        "    train_loss = loss.item()\n",
        "print(f'Class {adversarial_class}: Loss = {train_loss}')\n",
        "reconstructed_image = adversarial_inp.clone().detach().cpu()\n",
        "plt.imshow(unnormalize(reconstructed_image[0], mean, std).numpy().transpose(1,2,0))"
      ],
      "metadata": {
        "colab": {
          "base_uri": "https://localhost:8080/",
          "height": 482
        },
        "outputId": "8691316d-798b-4633-da8d-456ad153a656",
        "id": "0hm_ipMdPSri"
      },
      "execution_count": null,
      "outputs": [
        {
          "output_type": "stream",
          "name": "stderr",
          "text": [
            "WARNING:matplotlib.image:Clipping input data to the valid range for imshow with RGB data ([0..1] for floats or [0..255] for integers).\n"
          ]
        },
        {
          "output_type": "stream",
          "name": "stdout",
          "text": [
            "Class 1: Loss = 0.0\n"
          ]
        },
        {
          "output_type": "execute_result",
          "data": {
            "text/plain": [
              "<matplotlib.image.AxesImage at 0x7f384faed780>"
            ]
          },
          "metadata": {},
          "execution_count": 133
        },
        {
          "output_type": "display_data",
          "data": {
            "text/plain": [
              "<Figure size 640x480 with 1 Axes>"
            ],
            "image/png": "[encoded data removed]"
          },
          "metadata": {}
        }
      ]
    },
    {
      "cell_type": "code",
      "source": [
        "#Difference between original and reconstructed image\n",
        "plt.imshow(unnormalize(images[0].clone().detach().cpu(), mean, std).numpy().transpose(1,2,0)-unnormalize(reconstructed_image[0], mean, std).numpy().transpose(1,2,0))"
      ],
      "metadata": {
        "colab": {
          "base_uri": "https://localhost:8080/",
          "height": 465
        },
        "outputId": "c8b97bf9-1a61-4ee4-e723-10704bdc19c3",
        "id": "N7tPkkzbPSri"
      },
      "execution_count": null,
      "outputs": [
        {
          "output_type": "stream",
          "name": "stderr",
          "text": [
            "WARNING:matplotlib.image:Clipping input data to the valid range for imshow with RGB data ([0..1] for floats or [0..255] for integers).\n"
          ]
        },
        {
          "output_type": "execute_result",
          "data": {
            "text/plain": [
              "<matplotlib.image.AxesImage at 0x7f384f965150>"
            ]
          },
          "metadata": {},
          "execution_count": 134
        },
        {
          "output_type": "display_data",
          "data": {
            "text/plain": [
              "<Figure size 640x480 with 1 Axes>"
            ],
            "image/png": "[encoded data removed]"
          },
          "metadata": {}
        }
      ]
    },
    {
      "cell_type": "code",
      "source": [
        "#Output of reconstructed image\n",
        "with torch.no_grad():\n",
        "  print(torch.nn.functional.softmax(model(adversarial_inp)[0],dim=0))\n",
        "  print(torch.argmax(model(adversarial_inp)).item())"
      ],
      "metadata": {
        "colab": {
          "base_uri": "https://localhost:8080/"
        },
        "outputId": "8c6e9295-d534-495b-d24a-57518d744aa0",
        "id": "tYfJLPgEPSrj"
      },
      "execution_count": null,
      "outputs": [
        {
          "output_type": "stream",
          "name": "stdout",
          "text": [
            "tensor([1.3374e-33, 1.0000e+00, 1.7208e-24, 2.2224e-23, 2.8337e-23, 9.7108e-25,\n",
            "        1.7574e-14, 3.3972e-31, 1.3987e-38, 1.6560e-16], device='cuda:0')\n",
            "1\n"
          ]
        }
      ]
    },
    {
      "cell_type": "markdown",
      "source": [
        "**Even if we get a good loss convergence, the output image is still very noisy**"
      ],
      "metadata": {
        "id": "UFiAIWOmP1z0"
      }
    },
    {
      "cell_type": "markdown",
      "source": [
        "**In conclusion, a reconstruction attack can successfully take place on lightly and moderately obfuscated images, but on heavily obfuscated ones the standard algorithm is not strong enough to reconstruct the original image, instead we end up with a noisy image that is biased towards that particular class**"
      ],
      "metadata": {
        "id": "-iEQSQp0QCHt"
      }
    },
    {
      "cell_type": "markdown",
      "source": [
        "**This could be because the trained model is weak and overfits the data, so there is no constricted input space for each class**"
      ],
      "metadata": {
        "id": "oINWpVbQQh8m"
      }
    },
    {
      "cell_type": "markdown",
      "source": [
        "**It could also be because of the small number of output classes**"
      ],
      "metadata": {
        "id": "XVy7D0rwQ2Dg"
      }
    }
  ],
  "metadata": {
    "accelerator": "GPU",
    "colab": {
      "gpuType": "T4",
      "provenance": []
    },
    "kernelspec": {
      "display_name": "Python 3",
      "name": "python3"
    },
    "language_info": {
      "name": "python"
    }
  },
  "nbformat": 4,
  "nbformat_minor": 0
}